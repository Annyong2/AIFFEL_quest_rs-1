{
 "cells": [
  {
   "cell_type": "markdown",
   "id": "360e6a03",
   "metadata": {},
   "source": [
    "### 라이브러리 호출"
   ]
  },
  {
   "cell_type": "code",
   "execution_count": 44,
   "id": "fd33d162",
   "metadata": {},
   "outputs": [],
   "source": [
    "import re   #정규식\n",
    "import random   #데이터 증강용 난수\n",
    "import numpy as np   #행렬 연산\n",
    "import pandas as pd   #데이터프레임\n",
    "import tensorflow as tf   #신경망\n",
    "import matplotlib.pyplot as plt   #데이터 시각화\n",
    "from tqdm.notebook import tqdm   #학습 과정 출력\n",
    "\n",
    "\n",
    "import gensim   #Word2Vec\n",
    "from konlpy.tag import Mecab   #형태소 분석\n",
    "\n",
    "\n",
    "from nltk.translate.bleu_score import sentence_bleu   #bleu 연산\n",
    "from nltk.translate.bleu_score import SmoothingFunction   #bleu 연산"
   ]
  },
  {
   "cell_type": "markdown",
   "id": "16f5327b",
   "metadata": {},
   "source": [
    "### 데이터셋 불러오기"
   ]
  },
  {
   "cell_type": "code",
   "execution_count": 45,
   "id": "317af12b",
   "metadata": {},
   "outputs": [
    {
     "data": {
      "text/html": [
       "<div>\n",
       "<style scoped>\n",
       "    .dataframe tbody tr th:only-of-type {\n",
       "        vertical-align: middle;\n",
       "    }\n",
       "\n",
       "    .dataframe tbody tr th {\n",
       "        vertical-align: top;\n",
       "    }\n",
       "\n",
       "    .dataframe thead th {\n",
       "        text-align: right;\n",
       "    }\n",
       "</style>\n",
       "<table border=\"1\" class=\"dataframe\">\n",
       "  <thead>\n",
       "    <tr style=\"text-align: right;\">\n",
       "      <th></th>\n",
       "      <th>Q</th>\n",
       "      <th>A</th>\n",
       "    </tr>\n",
       "  </thead>\n",
       "  <tbody>\n",
       "    <tr>\n",
       "      <th>3855</th>\n",
       "      <td>임신이면 어떡하지</td>\n",
       "      <td>축하할 일이죠.</td>\n",
       "    </tr>\n",
       "    <tr>\n",
       "      <th>3879</th>\n",
       "      <td>잊어야겠다고 마음 먹고 맨날맨날 놀고 있습니다</td>\n",
       "      <td>바쁜 게 도움이 되지요.</td>\n",
       "    </tr>\n",
       "    <tr>\n",
       "      <th>638</th>\n",
       "      <td>나만 일시켜서 짜증폭발</td>\n",
       "      <td>일 분배를 다시 요청해보세요.</td>\n",
       "    </tr>\n",
       "    <tr>\n",
       "      <th>5901</th>\n",
       "      <td>너 만든 사람은 누구야?</td>\n",
       "      <td>마음과 마음을 이어보고 싶어하는 사람이 만들었어요.</td>\n",
       "    </tr>\n",
       "    <tr>\n",
       "      <th>636</th>\n",
       "      <td>나만 이상한 사람이래</td>\n",
       "      <td>그 말을 한 사람이 가장 이상할 거예요.</td>\n",
       "    </tr>\n",
       "  </tbody>\n",
       "</table>\n",
       "</div>"
      ],
      "text/plain": [
       "                              Q                             A\n",
       "3855                  임신이면 어떡하지                      축하할 일이죠.\n",
       "3879  잊어야겠다고 마음 먹고 맨날맨날 놀고 있습니다                 바쁜 게 도움이 되지요.\n",
       "638                나만 일시켜서 짜증폭발              일 분배를 다시 요청해보세요.\n",
       "5901              너 만든 사람은 누구야?  마음과 마음을 이어보고 싶어하는 사람이 만들었어요.\n",
       "636                 나만 이상한 사람이래        그 말을 한 사람이 가장 이상할 거예요."
      ]
     },
     "metadata": {},
     "output_type": "display_data"
    }
   ],
   "source": [
    "dataset = pd.read_csv(\"ChatbotData1.csv\")\n",
    "dataset.drop((\"label\"), axis=\"columns\", inplace=True)\n",
    "\n",
    "display(dataset.sample(5))"
   ]
  },
  {
   "cell_type": "markdown",
   "id": "fabc3725",
   "metadata": {},
   "source": [
    "### 레코드 수, 결측치, 중복 데이터 확인\n",
    " - 데이터 수는 총 11,823개이며, 0개의 결측치, 73개의 중복 데이터가 존재"
   ]
  },
  {
   "cell_type": "code",
   "execution_count": 46,
   "id": "ce88c7ea",
   "metadata": {},
   "outputs": [
    {
     "name": "stdout",
     "output_type": "stream",
     "text": [
      "<class 'pandas.core.frame.DataFrame'>\n",
      "RangeIndex: 11823 entries, 0 to 11822\n",
      "Data columns (total 2 columns):\n",
      " #   Column  Non-Null Count  Dtype \n",
      "---  ------  --------------  ----- \n",
      " 0   Q       11823 non-null  object\n",
      " 1   A       11823 non-null  object\n",
      "dtypes: object(2)\n",
      "memory usage: 184.9+ KB\n",
      "Dupliacted Data Num: 73\n"
     ]
    }
   ],
   "source": [
    "dataset.info()\n",
    "dup = dataset.duplicated()\n",
    "dup = dup.value_counts()[True]\n",
    "\n",
    "print(f\"Dupliacted Data Num: {dup:,}\")"
   ]
  },
  {
   "cell_type": "markdown",
   "id": "62f8bbe7",
   "metadata": {},
   "source": [
    "### 3. 데이터 전처리"
   ]
  },
  {
   "cell_type": "code",
   "execution_count": 47,
   "id": "bf6eb664",
   "metadata": {},
   "outputs": [
    {
     "name": "stdout",
     "output_type": "stream",
     "text": [
      "Data Num: 11,750\n"
     ]
    }
   ],
   "source": [
    "### 중복 데이터 제거(갯수:11,750)\n",
    "dataset.drop_duplicates(inplace=True)\n",
    "print(f\"Data Num: {len(dataset):,}\")"
   ]
  },
  {
   "cell_type": "code",
   "execution_count": 48,
   "id": "534a15cb",
   "metadata": {},
   "outputs": [],
   "source": [
    "## 문장들 전처리\n",
    "def preprocess_sentence(sentence):\n",
    "    sentence = sentence.lower().strip()\n",
    "    sentence = re.sub(r\"([0-9?.!,])\", r\" \\1 \", sentence)\n",
    "    sentence = re.sub(r'[\" \"]+', \" \", sentence)\n",
    "    sentence = re.sub(r\"[^a-zA-Zㄱ-ㅎ가-힣0-9?.!,]+\", \" \", sentence)\n",
    "    sentence = sentence.strip()\n",
    "    return sentence"
   ]
  },
  {
   "cell_type": "code",
   "execution_count": 49,
   "id": "96cebfe4",
   "metadata": {},
   "outputs": [
    {
     "data": {
      "text/html": [
       "<div>\n",
       "<style scoped>\n",
       "    .dataframe tbody tr th:only-of-type {\n",
       "        vertical-align: middle;\n",
       "    }\n",
       "\n",
       "    .dataframe tbody tr th {\n",
       "        vertical-align: top;\n",
       "    }\n",
       "\n",
       "    .dataframe thead th {\n",
       "        text-align: right;\n",
       "    }\n",
       "</style>\n",
       "<table border=\"1\" class=\"dataframe\">\n",
       "  <thead>\n",
       "    <tr style=\"text-align: right;\">\n",
       "      <th></th>\n",
       "      <th>Q</th>\n",
       "      <th>A</th>\n",
       "    </tr>\n",
       "  </thead>\n",
       "  <tbody>\n",
       "    <tr>\n",
       "      <th>8925</th>\n",
       "      <td>걔한테 잘보이고 싶은데 무슨 옷을 입는게 좋을까 ?</td>\n",
       "      <td>깔끔한 스타일이 좋을 것 같습니다 .</td>\n",
       "    </tr>\n",
       "    <tr>\n",
       "      <th>8139</th>\n",
       "      <td>좋다가 밉다가 무한반복</td>\n",
       "      <td>감정의 롤러코스터를 타나봐요 .</td>\n",
       "    </tr>\n",
       "    <tr>\n",
       "      <th>1936</th>\n",
       "      <td>발레 배우려고</td>\n",
       "      <td>선이 예뻐질 거예요 .</td>\n",
       "    </tr>\n",
       "    <tr>\n",
       "      <th>10259</th>\n",
       "      <td>썸 탈 때 예민한 부분 말해 ?</td>\n",
       "      <td>알아가는 단계니 디테일한 건 말 안해도 돼요 .</td>\n",
       "    </tr>\n",
       "    <tr>\n",
       "      <th>6937</th>\n",
       "      <td>어떻게 맘정리를할까 ?</td>\n",
       "      <td>열심히 하루하루를 살아가다보면 정리가 될 거예요 .</td>\n",
       "    </tr>\n",
       "  </tbody>\n",
       "</table>\n",
       "</div>"
      ],
      "text/plain": [
       "                                  Q                             A\n",
       "8925   걔한테 잘보이고 싶은데 무슨 옷을 입는게 좋을까 ?          깔끔한 스타일이 좋을 것 같습니다 .\n",
       "8139                   좋다가 밉다가 무한반복             감정의 롤러코스터를 타나봐요 .\n",
       "1936                        발레 배우려고                  선이 예뻐질 거예요 .\n",
       "10259             썸 탈 때 예민한 부분 말해 ?    알아가는 단계니 디테일한 건 말 안해도 돼요 .\n",
       "6937                   어떻게 맘정리를할까 ?  열심히 하루하루를 살아가다보면 정리가 될 거예요 ."
      ]
     },
     "metadata": {},
     "output_type": "display_data"
    }
   ],
   "source": [
    "dataset[\"Q\"] = dataset[\"Q\"].apply(preprocess_sentence)\n",
    "dataset[\"A\"] = dataset[\"A\"].apply(preprocess_sentence)\n",
    "\n",
    "display(dataset.sample(5))"
   ]
  },
  {
   "cell_type": "markdown",
   "id": "5b992744",
   "metadata": {},
   "source": [
    "#### okt를 이용한 형태소 기준 문장 분할"
   ]
  },
  {
   "cell_type": "code",
   "execution_count": 50,
   "id": "824d754b",
   "metadata": {},
   "outputs": [
    {
     "data": {
      "text/html": [
       "<div>\n",
       "<style scoped>\n",
       "    .dataframe tbody tr th:only-of-type {\n",
       "        vertical-align: middle;\n",
       "    }\n",
       "\n",
       "    .dataframe tbody tr th {\n",
       "        vertical-align: top;\n",
       "    }\n",
       "\n",
       "    .dataframe thead th {\n",
       "        text-align: right;\n",
       "    }\n",
       "</style>\n",
       "<table border=\"1\" class=\"dataframe\">\n",
       "  <thead>\n",
       "    <tr style=\"text-align: right;\">\n",
       "      <th></th>\n",
       "      <th>Q</th>\n",
       "      <th>A</th>\n",
       "    </tr>\n",
       "  </thead>\n",
       "  <tbody>\n",
       "    <tr>\n",
       "      <th>6734</th>\n",
       "      <td>술 을 마시니까 더 생각나는 날이에</td>\n",
       "      <td>기억 에 취해 서 그럴 거 예요 .</td>\n",
       "    </tr>\n",
       "    <tr>\n",
       "      <th>9845</th>\n",
       "      <td>사랑 경험 이 없어</td>\n",
       "      <td>지금 부터 해보면 돼요 .</td>\n",
       "    </tr>\n",
       "    <tr>\n",
       "      <th>3324</th>\n",
       "      <td>오늘 화장 떴어</td>\n",
       "      <td>각질 제거 를 해보세요 .</td>\n",
       "    </tr>\n",
       "    <tr>\n",
       "      <th>6859</th>\n",
       "      <td>아직도 너무 힙듭니 다 .</td>\n",
       "      <td>아무렇지도 않은 날 이 올 거 예요 .</td>\n",
       "    </tr>\n",
       "    <tr>\n",
       "      <th>32</th>\n",
       "      <td>가족 들 이랑 어디 가지 ?</td>\n",
       "      <td>온 가족 이 모두 마음 에 드는 곳 으로 가보세요 .</td>\n",
       "    </tr>\n",
       "  </tbody>\n",
       "</table>\n",
       "</div>"
      ],
      "text/plain": [
       "                        Q                              A\n",
       "6734  술 을 마시니까 더 생각나는 날이에            기억 에 취해 서 그럴 거 예요 .\n",
       "9845           사랑 경험 이 없어                 지금 부터 해보면 돼요 .\n",
       "3324             오늘 화장 떴어                 각질 제거 를 해보세요 .\n",
       "6859       아직도 너무 힙듭니 다 .          아무렇지도 않은 날 이 올 거 예요 .\n",
       "32        가족 들 이랑 어디 가지 ?  온 가족 이 모두 마음 에 드는 곳 으로 가보세요 ."
      ]
     },
     "metadata": {},
     "output_type": "display_data"
    }
   ],
   "source": [
    "from konlpy.tag import Okt\n",
    "\n",
    "o = Okt()\n",
    "\n",
    "dataset[\"Q\"] = dataset[\"Q\"].apply(lambda x: \" \".join(o.morphs(x)))\n",
    "dataset[\"A\"] = dataset[\"A\"].apply(lambda x: \" \".join(o.morphs(x)))\n",
    "\n",
    "display(dataset.sample(5))"
   ]
  },
  {
   "cell_type": "markdown",
   "id": "2c3d4ebe",
   "metadata": {},
   "source": [
    "### 디코더 문장 < sos>, < EOS> 토큰 추가\n",
    "    - 디코더에 입력할 데이터 문장 앞, 뒤에 <SOS>와 <EOS> 토큰을 추가해야함."
   ]
  },
  {
   "cell_type": "code",
   "execution_count": 51,
   "id": "c3732716",
   "metadata": {
    "scrolled": true
   },
   "outputs": [
    {
     "data": {
      "text/html": [
       "<div>\n",
       "<style scoped>\n",
       "    .dataframe tbody tr th:only-of-type {\n",
       "        vertical-align: middle;\n",
       "    }\n",
       "\n",
       "    .dataframe tbody tr th {\n",
       "        vertical-align: top;\n",
       "    }\n",
       "\n",
       "    .dataframe thead th {\n",
       "        text-align: right;\n",
       "    }\n",
       "</style>\n",
       "<table border=\"1\" class=\"dataframe\">\n",
       "  <thead>\n",
       "    <tr style=\"text-align: right;\">\n",
       "      <th></th>\n",
       "      <th>Q</th>\n",
       "      <th>A</th>\n",
       "    </tr>\n",
       "  </thead>\n",
       "  <tbody>\n",
       "    <tr>\n",
       "      <th>1954</th>\n",
       "      <td>발표 할 때 자꾸 떨려</td>\n",
       "      <td>&lt;sos&gt; 발표 는 누구 나 떨려요 . &lt;eos&gt;</td>\n",
       "    </tr>\n",
       "    <tr>\n",
       "      <th>9709</th>\n",
       "      <td>말 이 안 예쁘게 나와</td>\n",
       "      <td>&lt;sos&gt; 말 하기 전 에 생각 하고 말 하는 습관 을 길러 보세요 . &lt;eos&gt;</td>\n",
       "    </tr>\n",
       "    <tr>\n",
       "      <th>7876</th>\n",
       "      <td>잘가</td>\n",
       "      <td>&lt;sos&gt; 안녕 . &lt;eos&gt;</td>\n",
       "    </tr>\n",
       "    <tr>\n",
       "      <th>8242</th>\n",
       "      <td>짜증나네 .</td>\n",
       "      <td>&lt;sos&gt; 심호흡 해보세요 . &lt;eos&gt;</td>\n",
       "    </tr>\n",
       "    <tr>\n",
       "      <th>1556</th>\n",
       "      <td>맛집 가고 싶어</td>\n",
       "      <td>&lt;sos&gt; 벌써 먹고 싶어요 . &lt;eos&gt;</td>\n",
       "    </tr>\n",
       "  </tbody>\n",
       "</table>\n",
       "</div>"
      ],
      "text/plain": [
       "                 Q                                              A\n",
       "1954  발표 할 때 자꾸 떨려                    <sos> 발표 는 누구 나 떨려요 . <eos>\n",
       "9709  말 이 안 예쁘게 나와  <sos> 말 하기 전 에 생각 하고 말 하는 습관 을 길러 보세요 . <eos>\n",
       "7876            잘가                               <sos> 안녕 . <eos>\n",
       "8242        짜증나네 .                         <sos> 심호흡 해보세요 . <eos>\n",
       "1556      맛집 가고 싶어                        <sos> 벌써 먹고 싶어요 . <eos>"
      ]
     },
     "metadata": {},
     "output_type": "display_data"
    }
   ],
   "source": [
    "dataset[\"A\"] = dataset[\"A\"].apply(lambda x: \"<sos> \" + x + \" <eos>\")\n",
    "\n",
    "display(dataset.sample(5))"
   ]
  },
  {
   "cell_type": "markdown",
   "id": "daac9506",
   "metadata": {},
   "source": [
    "## 데이터 토큰화\n",
    "    -문장 길이 및 토큰 사용 빈도를 확인하기 위해, 토크나이저를 생성\n",
    "    - 12,594개의 토큰을 획득"
   ]
  },
  {
   "cell_type": "code",
   "execution_count": 52,
   "id": "e9ebc245",
   "metadata": {},
   "outputs": [
    {
     "name": "stdout",
     "output_type": "stream",
     "text": [
      "Tokenizer Vocab Size: 12,594\n"
     ]
    }
   ],
   "source": [
    "def get_tokenizer(corpus, vocab_size):\n",
    "    tokenizer = tf.keras.preprocessing.text.Tokenizer(\n",
    "        filters='',\n",
    "        oov_token=\"<UNK>\",\n",
    "        num_words=vocab_size\n",
    "    )\n",
    "    corpus_input = [sentence.split() for sentence in corpus]\n",
    "    tokenizer.fit_on_texts(corpus_input)\n",
    "    \n",
    "    if vocab_size is not None:\n",
    "        words_frequency = [w for w,c in tokenizer.word_index.items() if c >= vocab_size + 1]\n",
    "        for w in words_frequency:\n",
    "            del tokenizer.word_index[w]\n",
    "            del tokenizer.word_counts[w]\n",
    "    \n",
    "    return tokenizer\n",
    "\n",
    "\n",
    "concat = pd.concat([dataset[\"Q\"], dataset[\"A\"]])\n",
    "tokenizer = get_tokenizer(concat, None)\n",
    "\n",
    "print(\"Tokenizer Vocab Size:\", f\"{len(tokenizer.word_index):,}\")"
   ]
  },
  {
   "cell_type": "markdown",
   "id": "f5977247",
   "metadata": {},
   "source": [
    "## 문장 인코딩\n",
    " - 생성한 토크나이저를 바탕으로 자연어 글자를 정수 형태로 변환"
   ]
  },
  {
   "cell_type": "code",
   "execution_count": 53,
   "id": "1c98a052",
   "metadata": {},
   "outputs": [],
   "source": [
    "def encoding_sentence(copus, tokenizer):\n",
    "    tensor = tokenizer.texts_to_sequences(copus)\n",
    "    tensor = tf.keras.preprocessing.sequence.pad_sequences(\n",
    "        tensor, padding='post'\n",
    "    )\n",
    "    return tensor\n",
    "\n",
    "\n",
    "enc_tensor = encoding_sentence(dataset[\"Q\"], tokenizer)\n",
    "dec_tensor = encoding_sentence(dataset[\"A\"], tokenizer)"
   ]
  },
  {
   "cell_type": "code",
   "execution_count": 54,
   "id": "9825aac3",
   "metadata": {},
   "outputs": [],
   "source": [
    "#데이터 빈도 시각화 함수=========================\n",
    "def show_sentence_length(sentence_num, title, range_=[0, 500]):\n",
    "    plt.figure(figsize=(13, 5))\n",
    "    plt.suptitle(title, fontsize=14)\n",
    "    \n",
    "    plt.subplot(1, 2, 1)\n",
    "    plt.hist(sentence_num, bins=range_[1], range=range_, facecolor='b', label='train')\n",
    "    plt.xlabel('Number of question')\n",
    "    plt.ylabel('Count of question')\n",
    "    \n",
    "    plt.subplot(1, 2, 2)\n",
    "    plt.boxplot(sentence_num, labels=['token counts'], showmeans=True)\n",
    "\n",
    "    plt.show()\n",
    "    \n",
    "    print(\"< Sentence Info >\".center(100, \"=\"))\n",
    "    print(f\"길이 최대:    {np.max(sentence_num):4d}\")\n",
    "    print(f\"길이 최소:    {np.min(sentence_num):4d}\")\n",
    "    print(f\"길이 평균:    {np.mean(sentence_num):7.3f}\")\n",
    "    print(f\"길이 표준편차: {np.std(sentence_num):7.3f}\", end=\"\\n\\n\")\n",
    "    \n",
    "    percentile25 = np.percentile(sentence_num, 25)\n",
    "    percentile50 = np.percentile(sentence_num, 50)\n",
    "    percentile75 = np.percentile(sentence_num, 75)\n",
    "    percentileIQR = percentile75 - percentile25\n",
    "    percentileMAX = percentile75 + percentileIQR * 1.5\n",
    "    \n",
    "    print(f\" 25/100분위:  {percentile25:7.3f}\")\n",
    "    print(f\" 50/100분위:  {percentile50:7.3f}\")\n",
    "    print(f\" 75/100분위:  {percentile75:7.3f}\")\n",
    "    print(f\" MAX/100분위: {percentileMAX:7.3f}\")\n",
    "    print(f\" IQR: {percentileIQR:7.3f}\")\n",
    "    print(\"=\" * 100)\n",
    "#End==========================================="
   ]
  },
  {
   "cell_type": "markdown",
   "id": "4aa510ea",
   "metadata": {},
   "source": [
    "#### 데이터 문장 길이 확인\n",
    "    - 질문의 경우, 문장이 평균이 약 5개 토큰으로 이루어짐\n",
    "    - 대답의 경우, 문장이 평균이 약 8개 토큰으로 이루어짐 "
   ]
  },
  {
   "cell_type": "code",
   "execution_count": 55,
   "id": "08794a61",
   "metadata": {},
   "outputs": [
    {
     "data": {
      "image/png": "[encoded data removed]",
      "text/plain": [
       "<Figure size 936x360 with 2 Axes>"
      ]
     },
     "metadata": {
      "needs_background": "light"
     },
     "output_type": "display_data"
    },
    {
     "name": "stdout",
     "output_type": "stream",
     "text": [
      "=========================================< Sentence Info >==========================================\n",
      "길이 최대:      21\n",
      "길이 최소:       1\n",
      "길이 평균:      5.298\n",
      "길이 표준편차:   2.561\n",
      "\n",
      " 25/100분위:    3.000\n",
      " 50/100분위:    5.000\n",
      " 75/100분위:    7.000\n",
      " MAX/100분위:  13.000\n",
      " IQR:   4.000\n",
      "====================================================================================================\n"
     ]
    },
    {
     "data": {
      "image/png": "[encoded data removed]",
      "text/plain": [
       "<Figure size 936x360 with 2 Axes>"
      ]
     },
     "metadata": {
      "needs_background": "light"
     },
     "output_type": "display_data"
    },
    {
     "name": "stdout",
     "output_type": "stream",
     "text": [
      "=========================================< Sentence Info >==========================================\n",
      "길이 최대:      33\n",
      "길이 최소:       3\n",
      "길이 평균:      8.400\n",
      "길이 표준편차:   2.762\n",
      "\n",
      " 25/100분위:    6.000\n",
      " 50/100분위:    8.000\n",
      " 75/100분위:   10.000\n",
      " MAX/100분위:  16.000\n",
      " IQR:   4.000\n",
      "====================================================================================================\n"
     ]
    }
   ],
   "source": [
    "def get_sentence_len(tensor):\n",
    "    counts = []\n",
    "    for sentence in tensor.tolist():\n",
    "        try:\n",
    "            idx = sentence.index(0)\n",
    "            counts.append(idx)\n",
    "        except:\n",
    "            counts.append(len(sentence))\n",
    "    return counts\n",
    "\n",
    "\n",
    "enc_counts = get_sentence_len(enc_tensor)\n",
    "dec_counts = get_sentence_len(dec_tensor)\n",
    "\n",
    "show_sentence_length(enc_counts, \"<Fig 1> Question Sentence Infomation\", [0, 20])\n",
    "show_sentence_length(dec_counts, \"<Fig 2> Answer Sentence Infomation\", [0, 30])"
   ]
  },
  {
   "cell_type": "code",
   "execution_count": 56,
   "id": "85b6a437",
   "metadata": {},
   "outputs": [
    {
     "data": {
      "image/png": "[encoded data removed]",
      "text/plain": [
       "<Figure size 936x360 with 2 Axes>"
      ]
     },
     "metadata": {
      "needs_background": "light"
     },
     "output_type": "display_data"
    },
    {
     "name": "stdout",
     "output_type": "stream",
     "text": [
      "=========================================< Sentence Info >==========================================\n",
      "길이 최대:    13870\n",
      "길이 최소:       1\n",
      "길이 평균:     12.781\n",
      "길이 표준편차: 203.209\n",
      "\n",
      " 25/100분위:    1.000\n",
      " 50/100분위:    2.000\n",
      " 75/100분위:    4.000\n",
      " MAX/100분위:   8.500\n",
      " IQR:   3.000\n",
      "====================================================================================================\n"
     ]
    }
   ],
   "source": [
    "freq = [value for value in tokenizer.word_counts.values()]\n",
    "\n",
    "show_sentence_length(freq, \"<Fig 3> Word Frequency\", [0, 100])"
   ]
  },
  {
   "cell_type": "markdown",
   "id": "579e8bfd",
   "metadata": {},
   "source": [
    "#### 사용빈도 4분위에 해당하는 토큰 개수 확인\n",
    "\n",
    "    - 사용 빈도 4분위에 해당하는 토큰의 수는 총 11,621개 입니다.\n",
    "    - 질문의 문장의 길이가 13이하이고 대답의 문장길이가 16이하인 문장만 추출"
   ]
  },
  {
   "cell_type": "code",
   "execution_count": 57,
   "id": "31e6ebc0",
   "metadata": {},
   "outputs": [
    {
     "name": "stdout",
     "output_type": "stream",
     "text": [
      "Words Used Under 16: 11,621\n"
     ]
    }
   ],
   "source": [
    "def wordNumByFreq(tokenizer, freq_num):\n",
    "    sorted_freq = sorted(tokenizer.word_counts.items(), key=lambda x: x[1])\n",
    "    for idx, (_, freq) in enumerate(sorted_freq):\n",
    "        if freq > freq_num: break;\n",
    "    return idx\n",
    "\n",
    "\n",
    "print(f\"Words Used Under {16}: {wordNumByFreq(tokenizer, 16):,}\")"
   ]
  },
  {
   "cell_type": "code",
   "execution_count": 58,
   "id": "50251802",
   "metadata": {},
   "outputs": [
    {
     "name": "stdout",
     "output_type": "stream",
     "text": [
      "Tokenizer Vocab Size: 5,872\n"
     ]
    }
   ],
   "source": [
    "#토크나이저 생성===============\n",
    "concat = pd.concat([dataset[\"Q\"], dataset[\"A\"]])\n",
    "tokenizer = get_tokenizer(concat, 5872)\n",
    "#End===========================\n",
    "\n",
    "\n",
    "#문장 길이 정제================\n",
    "q = dataset[\"Q\"].apply(lambda x: len(tokenizer.texts_to_sequences([x])[0]) <= 14)\n",
    "a = dataset[\"A\"].apply(lambda x: len(tokenizer.texts_to_sequences([x])[0]) <= 17)\n",
    "dataset = dataset[q & a]\n",
    "#End===========================\n",
    "\n",
    "\n",
    "print(\"Tokenizer Vocab Size:\", f\"{len(tokenizer.word_index):,}\")\n"
   ]
  },
  {
   "cell_type": "markdown",
   "id": "89c6ec3d",
   "metadata": {},
   "source": [
    "### 테스트 데이터 분할\n",
    "    - 모델 검증 단계에서 사용할 100개의 테스트 데이터를 분할 합니다.\n"
   ]
  },
  {
   "cell_type": "code",
   "execution_count": 59,
   "id": "f5b8ed31",
   "metadata": {},
   "outputs": [
    {
     "data": {
      "text/html": [
       "<div>\n",
       "<style scoped>\n",
       "    .dataframe tbody tr th:only-of-type {\n",
       "        vertical-align: middle;\n",
       "    }\n",
       "\n",
       "    .dataframe tbody tr th {\n",
       "        vertical-align: top;\n",
       "    }\n",
       "\n",
       "    .dataframe thead th {\n",
       "        text-align: right;\n",
       "    }\n",
       "</style>\n",
       "<table border=\"1\" class=\"dataframe\">\n",
       "  <thead>\n",
       "    <tr style=\"text-align: right;\">\n",
       "      <th></th>\n",
       "      <th>Q</th>\n",
       "      <th>A</th>\n",
       "    </tr>\n",
       "  </thead>\n",
       "  <tbody>\n",
       "    <tr>\n",
       "      <th>33</th>\n",
       "      <td>가족 들 이랑 여행 갈거야</td>\n",
       "      <td>&lt;sos&gt; 좋은 생각 이에요 . &lt;eos&gt;</td>\n",
       "    </tr>\n",
       "    <tr>\n",
       "      <th>98</th>\n",
       "      <td>걔 랑 같은 반 됐으면 좋겠다</td>\n",
       "      <td>&lt;sos&gt; 당신 의 운 을 믿어 보세요 . &lt;eos&gt;</td>\n",
       "    </tr>\n",
       "    <tr>\n",
       "      <th>14</th>\n",
       "      <td>가난한 자의 설움</td>\n",
       "      <td>&lt;sos&gt; 돈 은 다시 들어올 거 예요 . &lt;eos&gt;</td>\n",
       "    </tr>\n",
       "    <tr>\n",
       "      <th>56</th>\n",
       "      <td>감기 약 이 없어</td>\n",
       "      <td>&lt;sos&gt; 병원 가세 요 . &lt;eos&gt;</td>\n",
       "    </tr>\n",
       "    <tr>\n",
       "      <th>102</th>\n",
       "      <td>거짓말 을 나도 모르게 자꾸 해</td>\n",
       "      <td>&lt;sos&gt; 거짓말 은 할수록 늘어요 . &lt;eos&gt;</td>\n",
       "    </tr>\n",
       "  </tbody>\n",
       "</table>\n",
       "</div>"
      ],
      "text/plain": [
       "                     Q                              A\n",
       "33      가족 들 이랑 여행 갈거야        <sos> 좋은 생각 이에요 . <eos>\n",
       "98    걔 랑 같은 반 됐으면 좋겠다  <sos> 당신 의 운 을 믿어 보세요 . <eos>\n",
       "14           가난한 자의 설움  <sos> 돈 은 다시 들어올 거 예요 . <eos>\n",
       "56           감기 약 이 없어          <sos> 병원 가세 요 . <eos>\n",
       "102  거짓말 을 나도 모르게 자꾸 해    <sos> 거짓말 은 할수록 늘어요 . <eos>"
      ]
     },
     "metadata": {},
     "output_type": "display_data"
    }
   ],
   "source": [
    "test_dataset = dataset[:100]\n",
    "dataset = dataset[100:]\n",
    "\n",
    "display(test_dataset.sample(5))"
   ]
  },
  {
   "cell_type": "markdown",
   "id": "8f3f3dbd",
   "metadata": {},
   "source": [
    "### 데이터 증강\n",
    "    -이미 학습된 Word2Vec을 이용하여 선택한 단어와 비슷한 단어를 추출. 임베딩 간 거리가 가까운 단어를 추출\n",
    "    선택한 단어를, 추출한 비슷한 단어로 대체 합니다. 해당 문장을 학습 데이터로 사용"
   ]
  },
  {
   "cell_type": "code",
   "execution_count": 61,
   "id": "27f5b4d3",
   "metadata": {},
   "outputs": [
    {
     "name": "stdout",
     "output_type": "stream",
     "text": [
      "Collecting gensim==4.0.1\n",
      "  Downloading gensim-4.0.1.tar.gz (23.1 MB)\n",
      "     |████████████████████████████████| 23.1 MB 1.9 MB/s            \n",
      "\u001b[?25h  Preparing metadata (setup.py) ... \u001b[?25ldone\n",
      "\u001b[?25hRequirement already satisfied: numpy>=1.11.3 in /opt/conda/lib/python3.9/site-packages (from gensim==4.0.1) (1.21.4)\n",
      "Requirement already satisfied: scipy>=0.18.1 in /opt/conda/lib/python3.9/site-packages (from gensim==4.0.1) (1.7.1)\n",
      "Requirement already satisfied: smart_open>=1.8.1 in /opt/conda/lib/python3.9/site-packages (from gensim==4.0.1) (5.2.1)\n",
      "Building wheels for collected packages: gensim\n",
      "  Building wheel for gensim (setup.py) ... \u001b[?25ldone\n",
      "\u001b[?25h  Created wheel for gensim: filename=gensim-4.0.1-cp39-cp39-linux_x86_64.whl size=23920442 sha256=7a111f71c4852e079a839885539e083a39357c354adaec09cc684d1e78dccb5d\n",
      "  Stored in directory: /aiffel/.cache/pip/wheels/20/74/75/72ec1172891bdecb4ee73fbc2c71d5a150f165b1d0c2ea04e1\n",
      "Successfully built gensim\n",
      "Installing collected packages: gensim\n",
      "  Attempting uninstall: gensim\n",
      "    Found existing installation: gensim 4.1.2\n",
      "    Uninstalling gensim-4.1.2:\n",
      "      Successfully uninstalled gensim-4.1.2\n",
      "Successfully installed gensim-4.0.1\n",
      "\u001b[33mWARNING: Running pip as the 'root' user can result in broken permissions and conflicting behaviour with the system package manager. It is recommended to use a virtual environment instead: https://pip.pypa.io/warnings/venv\u001b[0m\n",
      "Note: you may need to restart the kernel to use updated packages.\n"
     ]
    }
   ],
   "source": [
    "pip install gensim==4.0.1"
   ]
  },
  {
   "cell_type": "code",
   "execution_count": 62,
   "id": "5b099f42",
   "metadata": {},
   "outputs": [
    {
     "name": "stdout",
     "output_type": "stream",
     "text": [
      "4.1.2\n"
     ]
    },
    {
     "ename": "AttributeError",
     "evalue": "Can't get attribute 'Vocab' on <module 'gensim.models.word2vec' from '/opt/conda/lib/python3.9/site-packages/gensim/models/word2vec.py'>",
     "output_type": "error",
     "traceback": [
      "\u001b[0;31m---------------------------------------------------------------------------\u001b[0m",
      "\u001b[0;31mAttributeError\u001b[0m                            Traceback (most recent call last)",
      "\u001b[0;32m/tmp/ipykernel_31/3532875040.py\u001b[0m in \u001b[0;36m<module>\u001b[0;34m\u001b[0m\n\u001b[1;32m      3\u001b[0m \u001b[0mprint\u001b[0m\u001b[0;34m(\u001b[0m\u001b[0mgensim\u001b[0m\u001b[0;34m.\u001b[0m\u001b[0m__version__\u001b[0m\u001b[0;34m)\u001b[0m\u001b[0;34m\u001b[0m\u001b[0;34m\u001b[0m\u001b[0m\n\u001b[1;32m      4\u001b[0m \u001b[0;31m# Word2Vec 모델 불러오기\u001b[0m\u001b[0;34m\u001b[0m\u001b[0;34m\u001b[0m\u001b[0m\n\u001b[0;32m----> 5\u001b[0;31m \u001b[0mw2v\u001b[0m \u001b[0;34m=\u001b[0m \u001b[0mWord2Vec\u001b[0m\u001b[0;34m.\u001b[0m\u001b[0mload\u001b[0m\u001b[0;34m(\u001b[0m\u001b[0;34m'ko.bin'\u001b[0m\u001b[0;34m)\u001b[0m\u001b[0;34m\u001b[0m\u001b[0;34m\u001b[0m\u001b[0m\n\u001b[0m\u001b[1;32m      6\u001b[0m \u001b[0;34m\u001b[0m\u001b[0m\n\u001b[1;32m      7\u001b[0m \u001b[0;31m# 모델 확인 (예시)\u001b[0m\u001b[0;34m\u001b[0m\u001b[0;34m\u001b[0m\u001b[0m\n",
      "\u001b[0;32m/opt/conda/lib/python3.9/site-packages/gensim/models/word2vec.py\u001b[0m in \u001b[0;36mload\u001b[0;34m(cls, rethrow, *args, **kwargs)\u001b[0m\n\u001b[1;32m   1940\u001b[0m         \u001b[0;32mif\u001b[0m \u001b[0;32mnot\u001b[0m \u001b[0mhasattr\u001b[0m\u001b[0;34m(\u001b[0m\u001b[0mself\u001b[0m\u001b[0;34m,\u001b[0m \u001b[0;34m'ns_exponent'\u001b[0m\u001b[0;34m)\u001b[0m\u001b[0;34m:\u001b[0m\u001b[0;34m\u001b[0m\u001b[0;34m\u001b[0m\u001b[0m\n\u001b[1;32m   1941\u001b[0m             \u001b[0mself\u001b[0m\u001b[0;34m.\u001b[0m\u001b[0mns_exponent\u001b[0m \u001b[0;34m=\u001b[0m \u001b[0;36m0.75\u001b[0m\u001b[0;34m\u001b[0m\u001b[0;34m\u001b[0m\u001b[0m\n\u001b[0;32m-> 1942\u001b[0;31m         \u001b[0;32mif\u001b[0m \u001b[0mself\u001b[0m\u001b[0;34m.\u001b[0m\u001b[0mnegative\u001b[0m \u001b[0;32mand\u001b[0m \u001b[0mhasattr\u001b[0m\u001b[0;34m(\u001b[0m\u001b[0mself\u001b[0m\u001b[0;34m.\u001b[0m\u001b[0mwv\u001b[0m\u001b[0;34m,\u001b[0m \u001b[0;34m'index_to_key'\u001b[0m\u001b[0;34m)\u001b[0m\u001b[0;34m:\u001b[0m\u001b[0;34m\u001b[0m\u001b[0;34m\u001b[0m\u001b[0m\n\u001b[0m\u001b[1;32m   1943\u001b[0m             \u001b[0mself\u001b[0m\u001b[0;34m.\u001b[0m\u001b[0mmake_cum_table\u001b[0m\u001b[0;34m(\u001b[0m\u001b[0;34m)\u001b[0m  \u001b[0;31m# rebuild cum_table from vocabulary\u001b[0m\u001b[0;34m\u001b[0m\u001b[0;34m\u001b[0m\u001b[0m\n\u001b[1;32m   1944\u001b[0m         \u001b[0;32mif\u001b[0m \u001b[0;32mnot\u001b[0m \u001b[0mhasattr\u001b[0m\u001b[0;34m(\u001b[0m\u001b[0mself\u001b[0m\u001b[0;34m,\u001b[0m \u001b[0;34m'corpus_count'\u001b[0m\u001b[0;34m)\u001b[0m\u001b[0;34m:\u001b[0m\u001b[0;34m\u001b[0m\u001b[0;34m\u001b[0m\u001b[0m\n",
      "\u001b[0;32m/opt/conda/lib/python3.9/site-packages/gensim/models/word2vec.py\u001b[0m in \u001b[0;36mload\u001b[0;34m(cls, rethrow, *args, **kwargs)\u001b[0m\n\u001b[1;32m   1928\u001b[0m             \u001b[0;32mif\u001b[0m \u001b[0mrethrow\u001b[0m\u001b[0;34m:\u001b[0m\u001b[0;34m\u001b[0m\u001b[0;34m\u001b[0m\u001b[0m\n\u001b[1;32m   1929\u001b[0m                 \u001b[0;32mraise\u001b[0m \u001b[0mae\u001b[0m\u001b[0;34m\u001b[0m\u001b[0;34m\u001b[0m\u001b[0m\n\u001b[0;32m-> 1930\u001b[0;31m             logger.error(\n\u001b[0m\u001b[1;32m   1931\u001b[0m                 \u001b[0;34m\"Model load error. Was model saved using code from an older Gensim Version? \"\u001b[0m\u001b[0;34m\u001b[0m\u001b[0;34m\u001b[0m\u001b[0m\n\u001b[1;32m   1932\u001b[0m                 \u001b[0;34m\"Try loading older model using gensim-3.8.3, then re-saving, to restore \"\u001b[0m\u001b[0;34m\u001b[0m\u001b[0;34m\u001b[0m\u001b[0m\n",
      "\u001b[0;32m/opt/conda/lib/python3.9/site-packages/gensim/utils.py\u001b[0m in \u001b[0;36mload\u001b[0;34m(cls, fname, mmap)\u001b[0m\n\u001b[1;32m    483\u001b[0m \u001b[0;34m\u001b[0m\u001b[0m\n\u001b[1;32m    484\u001b[0m         \u001b[0mcompress\u001b[0m\u001b[0;34m,\u001b[0m \u001b[0msubname\u001b[0m \u001b[0;34m=\u001b[0m \u001b[0mSaveLoad\u001b[0m\u001b[0;34m.\u001b[0m\u001b[0m_adapt_by_suffix\u001b[0m\u001b[0;34m(\u001b[0m\u001b[0mfname\u001b[0m\u001b[0;34m)\u001b[0m\u001b[0;34m\u001b[0m\u001b[0;34m\u001b[0m\u001b[0m\n\u001b[0;32m--> 485\u001b[0;31m \u001b[0;34m\u001b[0m\u001b[0m\n\u001b[0m\u001b[1;32m    486\u001b[0m         \u001b[0mobj\u001b[0m \u001b[0;34m=\u001b[0m \u001b[0munpickle\u001b[0m\u001b[0;34m(\u001b[0m\u001b[0mfname\u001b[0m\u001b[0;34m)\u001b[0m\u001b[0;34m\u001b[0m\u001b[0;34m\u001b[0m\u001b[0m\n\u001b[1;32m    487\u001b[0m         \u001b[0mobj\u001b[0m\u001b[0;34m.\u001b[0m\u001b[0m_load_specials\u001b[0m\u001b[0;34m(\u001b[0m\u001b[0mfname\u001b[0m\u001b[0;34m,\u001b[0m \u001b[0mmmap\u001b[0m\u001b[0;34m,\u001b[0m \u001b[0mcompress\u001b[0m\u001b[0;34m,\u001b[0m \u001b[0msubname\u001b[0m\u001b[0;34m)\u001b[0m\u001b[0;34m\u001b[0m\u001b[0;34m\u001b[0m\u001b[0m\n",
      "\u001b[0;32m/opt/conda/lib/python3.9/site-packages/gensim/utils.py\u001b[0m in \u001b[0;36munpickle\u001b[0;34m(fname)\u001b[0m\n\u001b[1;32m   1458\u001b[0m         \u001b[0;32mreturn\u001b[0m \u001b[0m_pickle\u001b[0m\u001b[0;34m.\u001b[0m\u001b[0mload\u001b[0m\u001b[0;34m(\u001b[0m\u001b[0mf\u001b[0m\u001b[0;34m,\u001b[0m \u001b[0mencoding\u001b[0m\u001b[0;34m=\u001b[0m\u001b[0;34m'latin1'\u001b[0m\u001b[0;34m)\u001b[0m  \u001b[0;31m# needed because loading from S3 doesn't support readline()\u001b[0m\u001b[0;34m\u001b[0m\u001b[0;34m\u001b[0m\u001b[0m\n\u001b[1;32m   1459\u001b[0m \u001b[0;34m\u001b[0m\u001b[0m\n\u001b[0;32m-> 1460\u001b[0;31m \u001b[0;34m\u001b[0m\u001b[0m\n\u001b[0m\u001b[1;32m   1461\u001b[0m \u001b[0;32mdef\u001b[0m \u001b[0mrevdict\u001b[0m\u001b[0;34m(\u001b[0m\u001b[0md\u001b[0m\u001b[0;34m)\u001b[0m\u001b[0;34m:\u001b[0m\u001b[0;34m\u001b[0m\u001b[0;34m\u001b[0m\u001b[0m\n\u001b[1;32m   1462\u001b[0m     \"\"\"Reverse a dictionary mapping, i.e. `{1: 2, 3: 4}` -> `{2: 1, 4: 3}`.\n",
      "\u001b[0;31mAttributeError\u001b[0m: Can't get attribute 'Vocab' on <module 'gensim.models.word2vec' from '/opt/conda/lib/python3.9/site-packages/gensim/models/word2vec.py'>"
     ]
    }
   ],
   "source": [
    "from gensim.models import Word2Vec\n",
    "\n",
    "print(gensim.__version__)\n",
    "# Word2Vec 모델 불러오기\n",
    "w2v = Word2Vec.load('ko.bin')\n",
    "\n",
    "# 모델 확인 (예시)\n",
    "print(w2v.wv.most_similar(\"화장품\"))"
   ]
  },
  {
   "cell_type": "markdown",
   "id": "18ae9c37",
   "metadata": {},
   "source": [
    "### 계속 word2vec 불러오는게 에러가 발생해서 데이터 증강은 하지 못했다."
   ]
  },
  {
   "cell_type": "markdown",
   "id": "40386859",
   "metadata": {},
   "source": [
    "### Transformer 생성"
   ]
  },
  {
   "cell_type": "code",
   "execution_count": 63,
   "id": "8c0cde4f",
   "metadata": {},
   "outputs": [],
   "source": [
    "#Positional Encoding==================================================\n",
    "def positional_encoding(pos, d_model):\n",
    "    def cal_angle(position, i):\n",
    "        return position / np.power(10000, int(i)/d_model)\n",
    "    \n",
    "    def get_posi_angle_vec(position):\n",
    "        return [cal_angle(position, i) for i in range(d_model)]\n",
    "    \n",
    "    sinusoid_table = np.array([get_posi_angle_vec(pos_i) for pos_i in range(pos)])\n",
    "    \n",
    "    sinusoid_table[:, 0::2] = np.sin(sinusoid_table[:, 0::2])\n",
    "    sinusoid_table[:, 1::2] = np.cos(sinusoid_table[:, 1::2])\n",
    "    \n",
    "    return sinusoid_table\n",
    "#End==================================================================\n",
    "\n",
    "\n",
    "#MultiHeadAttention====================================================\n",
    "class MultiHeadAttention(tf.keras.layers.Layer):\n",
    "    def __init__(self, d_model, num_heads):\n",
    "        super(MultiHeadAttention, self).__init__()\n",
    "        self.num_heads = num_heads\n",
    "        self.d_model = d_model\n",
    "            \n",
    "        self.depth = d_model // self.num_heads\n",
    "            \n",
    "        self.W_q = tf.keras.layers.Dense(d_model)\n",
    "        self.W_k = tf.keras.layers.Dense(d_model)\n",
    "        self.W_v = tf.keras.layers.Dense(d_model)\n",
    "            \n",
    "        self.linear = tf.keras.layers.Dense(d_model)\n",
    "\n",
    "    def scaled_dot_product_attention(self, Q, K, V, mask):\n",
    "        d_k = tf.cast(K.shape[-1], tf.float32)\n",
    "        QK = tf.matmul(Q, K, transpose_b=True)\n",
    "\n",
    "        scaled_qk = QK / tf.math.sqrt(d_k)\n",
    "\n",
    "        if mask is not None: scaled_qk += (mask * -1e9)  \n",
    "\n",
    "        attentions = tf.nn.softmax(scaled_qk, axis=-1)\n",
    "        out = tf.matmul(attentions, V)\n",
    "\n",
    "        return out, attentions\n",
    "            \n",
    "\n",
    "    def split_heads(self, x):\n",
    "        batch_size = x.shape[0]\n",
    "        split_x = tf.reshape(x, (batch_size, -1, self.num_heads, self.depth))\n",
    "        split_x = tf.transpose(split_x, perm=[0, 2, 1, 3])\n",
    "\n",
    "        return split_x\n",
    "\n",
    "    def combine_heads(self, x):\n",
    "        batch_size = x.shape[0]\n",
    "        combined_x = tf.transpose(x, perm=[0, 2, 1, 3])\n",
    "        combined_x = tf.reshape(combined_x, (batch_size, -1, self.d_model))\n",
    "\n",
    "        return combined_x\n",
    "\n",
    "        \n",
    "    def call(self, Q, K, V, mask):\n",
    "        WQ = self.W_q(Q)\n",
    "        WK = self.W_k(K)\n",
    "        WV = self.W_v(V)\n",
    "        \n",
    "        WQ_splits = self.split_heads(WQ)\n",
    "        WK_splits = self.split_heads(WK)\n",
    "        WV_splits = self.split_heads(WV)\n",
    "            \n",
    "        out, attention_weights = self.scaled_dot_product_attention(\n",
    "            WQ_splits, WK_splits, WV_splits, mask\n",
    "        )\n",
    "        out = self.combine_heads(out)\n",
    "        out = self.linear(out)\n",
    "                \n",
    "        return out, attention_weights\n",
    "#End==================================================================\n",
    "\n",
    "    \n",
    "#Position-wise Feed-Forward Network===================================\n",
    "class PoswiseFeedForwardNet(tf.keras.layers.Layer):\n",
    "    def __init__(self, d_model, d_ff):\n",
    "        super(PoswiseFeedForwardNet, self).__init__()\n",
    "        self.w_1 = tf.keras.layers.Dense(d_ff, activation='relu')\n",
    "        self.w_2 = tf.keras.layers.Dense(d_model)\n",
    "\n",
    "    def call(self, x):\n",
    "        out = self.w_1(x)\n",
    "        out = self.w_2(out)\n",
    "            \n",
    "        return out\n",
    "#End==================================================================\n",
    "\n",
    "\n",
    "#Mask 레이어==========================================================\n",
    "def generate_padding_mask(seq):\n",
    "    seq = tf.cast(tf.math.equal(seq, 0), tf.float32)\n",
    "    return seq[:, tf.newaxis, tf.newaxis, :]\n",
    "\n",
    "def generate_causality_mask(src_len, tgt_len):\n",
    "    mask = 1 - np.cumsum(np.eye(src_len, tgt_len), 0)\n",
    "    return tf.cast(mask, tf.float32)\n",
    "\n",
    "def generate_masks(src, tgt):\n",
    "    enc_mask = generate_padding_mask(src)\n",
    "    dec_mask = generate_padding_mask(tgt)\n",
    "\n",
    "    dec_enc_causality_mask = generate_causality_mask(tgt.shape[1], src.shape[1])\n",
    "    dec_enc_mask = tf.maximum(enc_mask, dec_enc_causality_mask)\n",
    "\n",
    "    dec_causality_mask = generate_causality_mask(tgt.shape[1], tgt.shape[1])\n",
    "    dec_mask = tf.maximum(dec_mask, dec_causality_mask)\n",
    "\n",
    "    return enc_mask, dec_enc_mask, dec_mask\n",
    "\n",
    "#End=================================================================="
   ]
  },
  {
   "cell_type": "markdown",
   "id": "8e6b766e",
   "metadata": {},
   "source": [
    "## 인코더 레이어 및 디코더 레이어"
   ]
  },
  {
   "cell_type": "code",
   "execution_count": 64,
   "id": "09cab2a7",
   "metadata": {},
   "outputs": [],
   "source": [
    "#Encoder 레이어=======================================================\n",
    "class EncoderLayer(tf.keras.layers.Layer):\n",
    "    def __init__(self, d_model, n_heads, d_ff, dropout):\n",
    "        super(EncoderLayer, self).__init__()\n",
    "\n",
    "        self.enc_self_attn = MultiHeadAttention(d_model, n_heads)\n",
    "        self.ffn = PoswiseFeedForwardNet(d_model, d_ff)\n",
    "\n",
    "        self.norm_1 = tf.keras.layers.LayerNormalization(epsilon=1e-6)\n",
    "        self.norm_2 = tf.keras.layers.LayerNormalization(epsilon=1e-6)\n",
    "\n",
    "        self.dropout = tf.keras.layers.Dropout(dropout)\n",
    "        \n",
    "    def call(self, x, mask):\n",
    "        residual = x\n",
    "        out = self.norm_1(x)\n",
    "        out, enc_attn = self.enc_self_attn(out, out, out, mask)\n",
    "        out = self.dropout(out)\n",
    "        out += residual\n",
    "        \n",
    "        residual = out\n",
    "        out = self.norm_2(out)\n",
    "        out = self.ffn(out)\n",
    "        out = self.dropout(out)\n",
    "        out += residual\n",
    "        \n",
    "        return out, enc_attn\n",
    "#End==================================================================\n",
    "\n",
    "\n",
    "#Decoder 레이어=======================================================\n",
    "class DecoderLayer(tf.keras.layers.Layer):\n",
    "    def __init__(self, d_model, num_heads, d_ff, dropout):\n",
    "        super(DecoderLayer, self).__init__()\n",
    "\n",
    "        self.dec_self_attn = MultiHeadAttention(d_model, num_heads)\n",
    "        self.enc_dec_attn = MultiHeadAttention(d_model, num_heads)\n",
    "\n",
    "        self.ffn = PoswiseFeedForwardNet(d_model, d_ff)\n",
    "\n",
    "        self.norm_1 = tf.keras.layers.LayerNormalization(epsilon=1e-6)\n",
    "        self.norm_2 = tf.keras.layers.LayerNormalization(epsilon=1e-6)\n",
    "        self.norm_3 = tf.keras.layers.LayerNormalization(epsilon=1e-6)\n",
    "\n",
    "        self.dropout = tf.keras.layers.Dropout(dropout)\n",
    "    \n",
    "    def call(self, x, enc_out, causality_mask, padding_mask):\n",
    "        residual = x\n",
    "        out = self.norm_1(x)\n",
    "        out, dec_attn = self.dec_self_attn(out, out, out, padding_mask)\n",
    "        out = self.dropout(out)\n",
    "        out += residual\n",
    "\n",
    "        residual = out\n",
    "        out = self.norm_2(out)\n",
    "        out, dec_enc_attn = self.enc_dec_attn(out, enc_out, enc_out, causality_mask)\n",
    "        out = self.dropout(out)\n",
    "        out += residual\n",
    "       \n",
    "        residual = out\n",
    "        out = self.norm_3(out)\n",
    "        out = self.ffn(out)\n",
    "        out = self.dropout(out)\n",
    "        out += residual\n",
    "\n",
    "        return out, dec_attn, dec_enc_attn\n",
    "#End=================================================================="
   ]
  },
  {
   "cell_type": "markdown",
   "id": "fc78c32d",
   "metadata": {},
   "source": [
    "### 인코더 및 디코더 함수 정의"
   ]
  },
  {
   "cell_type": "code",
   "execution_count": 65,
   "id": "717b2d93",
   "metadata": {},
   "outputs": [],
   "source": [
    "#Encoder==============================================================\n",
    "class Encoder(tf.keras.Model):\n",
    "    def __init__(self,\n",
    "                 n_layers,\n",
    "                 d_model,\n",
    "                 n_heads,\n",
    "                 d_ff,\n",
    "                 dropout):\n",
    "        super(Encoder, self).__init__()\n",
    "        self.n_layers = n_layers\n",
    "        self.enc_layers = [EncoderLayer(d_model, n_heads, d_ff, dropout) \n",
    "                        for _ in range(n_layers)]\n",
    "        \n",
    "    def call(self, x, mask):\n",
    "        out = x\n",
    "    \n",
    "        enc_attns = list()\n",
    "        for i in range(self.n_layers):\n",
    "            out, enc_attn = self.enc_layers[i](out, mask)\n",
    "            enc_attns.append(enc_attn)\n",
    "        \n",
    "        return out, enc_attns\n",
    "#End==================================================================\n",
    "\n",
    "\n",
    "#Decoder==============================================================\n",
    "class Decoder(tf.keras.Model):\n",
    "    def __init__(self,\n",
    "                 n_layers,\n",
    "                 d_model,\n",
    "                 n_heads,\n",
    "                 d_ff,\n",
    "                 dropout):\n",
    "        super(Decoder, self).__init__()\n",
    "        self.n_layers = n_layers\n",
    "        self.dec_layers = [DecoderLayer(d_model, n_heads, d_ff, dropout) \n",
    "                            for _ in range(n_layers)]\n",
    "                            \n",
    "                            \n",
    "    def call(self, x, enc_out, causality_mask, padding_mask):\n",
    "        out = x\n",
    "    \n",
    "        dec_attns = list()\n",
    "        dec_enc_attns = list()\n",
    "        for i in range(self.n_layers):\n",
    "            out, dec_attn, dec_enc_attn = \\\n",
    "            self.dec_layers[i](out, enc_out, causality_mask, padding_mask)\n",
    "\n",
    "            dec_attns.append(dec_attn)\n",
    "            dec_enc_attns.append(dec_enc_attn)\n",
    "\n",
    "        return out, dec_attns, dec_enc_attns\n",
    "#End=================================================================="
   ]
  },
  {
   "cell_type": "markdown",
   "id": "73369dd5",
   "metadata": {},
   "source": [
    "## Transformer 함수 정의"
   ]
  },
  {
   "cell_type": "code",
   "execution_count": 66,
   "id": "cbdf5c7f",
   "metadata": {},
   "outputs": [],
   "source": [
    "class Transformer(tf.keras.Model):\n",
    "    def __init__(\n",
    "        self,\n",
    "        n_layers, d_model, n_heads, d_ff,\n",
    "        src_vocab_size, tgt_vocab_size,\n",
    "        pos_len,\n",
    "        dropout=0.2,\n",
    "        shared=True\n",
    "    ):\n",
    "        super(Transformer, self).__init__()\n",
    "        self.d_model = tf.cast(d_model, tf.float32)\n",
    "\n",
    "        self.enc_emb = tf.keras.layers.Embedding(src_vocab_size, d_model)\n",
    "        self.dec_emb = tf.keras.layers.Embedding(tgt_vocab_size, d_model)\n",
    "\n",
    "        self.pos_encoding = positional_encoding(pos_len, d_model)\n",
    "        self.dropout = tf.keras.layers.Dropout(dropout)\n",
    "\n",
    "        self.encoder = Encoder(n_layers, d_model, n_heads, d_ff, dropout)\n",
    "        self.decoder = Decoder(n_layers, d_model, n_heads, d_ff, dropout)\n",
    "\n",
    "        self.fc = tf.keras.layers.Dense(tgt_vocab_size)\n",
    "\n",
    "        self.shared = shared\n",
    "\n",
    "        if shared: self.fc.set_weights(tf.transpose(self.dec_emb.weights))\n",
    "\n",
    "            \n",
    "    def embedding(self, emb, x):\n",
    "        seq_len = x.shape[1]\n",
    "        out = emb(x)\n",
    "\n",
    "        if self.shared: out *= tf.math.sqrt(self.d_model)\n",
    "\n",
    "        out += self.pos_encoding[np.newaxis, ...][:, :seq_len, :]\n",
    "        out = self.dropout(out)\n",
    "\n",
    "        return out\n",
    "\n",
    "        \n",
    "    def call(self, enc_in, dec_in, enc_mask, causality_mask, dec_mask):\n",
    "        enc_in = self.embedding(self.enc_emb, enc_in)\n",
    "        dec_in = self.embedding(self.dec_emb, dec_in)\n",
    "\n",
    "        enc_out, enc_attns = self.encoder(enc_in, enc_mask)\n",
    "        \n",
    "        dec_out, dec_attns, dec_enc_attns = \\\n",
    "        self.decoder(dec_in, enc_out, causality_mask, dec_mask)\n",
    "        \n",
    "        logits = self.fc(dec_out)\n",
    "        \n",
    "        return logits, enc_attns, dec_attns, dec_enc_attns"
   ]
  },
  {
   "cell_type": "markdown",
   "id": "a9b8d11d",
   "metadata": {},
   "source": [
    "## 모델 생성"
   ]
  },
  {
   "cell_type": "code",
   "execution_count": 67,
   "id": "0cb871c5",
   "metadata": {},
   "outputs": [],
   "source": [
    "transformer = Transformer(\n",
    "    n_layers=2,\n",
    "    d_model=128,\n",
    "    n_heads=8,\n",
    "    d_ff=128,\n",
    "    dropout=0.5,\n",
    "    pos_len=200,\n",
    "    shared=True,\n",
    "    src_vocab_size=5872, tgt_vocab_size=5872\n",
    ")"
   ]
  },
  {
   "cell_type": "markdown",
   "id": "627bb2b7",
   "metadata": {},
   "source": [
    "#### 학습률의 경우 고정된 값을 이용하지 않고 LearningRateScheduler를 이용하여, 높은 학습률로부터 점차 낮추는 방식을 사용 합니다."
   ]
  },
  {
   "cell_type": "code",
   "execution_count": 68,
   "id": "66d1c837",
   "metadata": {},
   "outputs": [],
   "source": [
    "#LearningRateScheduler=====================\n",
    "class LearningRateScheduler(tf.keras.optimizers.schedules.LearningRateSchedule):\n",
    "    def __init__(self, d_model, warmup_steps=4000):\n",
    "        super(LearningRateScheduler, self).__init__()\n",
    "        self.d_model = d_model\n",
    "        self.warmup_steps = warmup_steps\n",
    "    \n",
    "    def __call__(self, step):\n",
    "        arg1 = step ** -0.5\n",
    "        arg2 = step * (self.warmup_steps ** -1.5)\n",
    "        \n",
    "        return (self.d_model ** -0.5) * tf.math.minimum(arg1, arg2)\n",
    "#End=======================================\n",
    "\n",
    "\n",
    "#손실 함수=================================  \n",
    "def loss_function(real, pred):\n",
    "    mask = tf.math.logical_not(tf.math.equal(real, 0))\n",
    "    loss_ = loss_object(real, pred)\n",
    "    mask = tf.cast(mask, dtype=loss_.dtype)\n",
    "    loss_ *= mask\n",
    "    return tf.reduce_sum(loss_)/tf.reduce_sum(mask)    \n",
    "#End=======================================\n",
    "\n",
    "    \n",
    "learning_rate = LearningRateScheduler(512)\n",
    "optimizer = tf.keras.optimizers.Adam(\n",
    "    learning_rate, beta_1=0.9, beta_2=0.98, epsilon=1e-9\n",
    ")\n",
    "\n",
    "loss_object = tf.keras.losses.SparseCategoricalCrossentropy(\n",
    "    from_logits=True, reduction='none')"
   ]
  },
  {
   "cell_type": "markdown",
   "id": "7b17b357",
   "metadata": {},
   "source": [
    "## 학습 함수 정의"
   ]
  },
  {
   "cell_type": "code",
   "execution_count": 69,
   "id": "abf2aa0c",
   "metadata": {},
   "outputs": [],
   "source": [
    "# Train Step 함수======================================\n",
    "@tf.function()\n",
    "def train_step(src, tgt, model, optimizer):\n",
    "    tgt_in = tgt[:, :-1]  # Decoder의 input\n",
    "    gold = tgt[:, 1:]     # Decoder의 output과 비교하기 위해 right shift를 통해 생성한 최종 타겟\n",
    "\n",
    "    enc_mask, dec_enc_mask, dec_mask = generate_masks(src, tgt_in)\n",
    "\n",
    "    with tf.GradientTape() as tape:\n",
    "        predictions, enc_attns, dec_attns, dec_enc_attns = \\\n",
    "        model(src, tgt_in, enc_mask, dec_enc_mask, dec_mask)\n",
    "        loss = loss_function(gold, predictions)\n",
    "\n",
    "    gradients = tape.gradient(loss, model.trainable_variables)    \n",
    "    optimizer.apply_gradients(zip(gradients, model.trainable_variables))\n",
    "\n",
    "    return loss, enc_attns, dec_attns, dec_enc_attns\n",
    "#End==================================================="
   ]
  },
  {
   "cell_type": "markdown",
   "id": "f73859d0",
   "metadata": {},
   "source": [
    "### 모델 학습"
   ]
  },
  {
   "cell_type": "code",
   "execution_count": 70,
   "id": "a8974613",
   "metadata": {},
   "outputs": [
    {
     "data": {
      "application/vnd.jupyter.widget-view+json": {
       "model_id": "54c4be13d106401784d0c974191a2910",
       "version_major": 2,
       "version_minor": 0
      },
      "text/plain": [
       "  0%|          | 0/184 [00:00<?, ?it/s]"
      ]
     },
     "metadata": {},
     "output_type": "display_data"
    },
    {
     "data": {
      "application/vnd.jupyter.widget-view+json": {
       "model_id": "6501064848754dc2b794e5f30e70c28d",
       "version_major": 2,
       "version_minor": 0
      },
      "text/plain": [
       "  0%|          | 0/184 [00:00<?, ?it/s]"
      ]
     },
     "metadata": {},
     "output_type": "display_data"
    },
    {
     "data": {
      "application/vnd.jupyter.widget-view+json": {
       "model_id": "0e6044bb66b949c7ab018596111e51e4",
       "version_major": 2,
       "version_minor": 0
      },
      "text/plain": [
       "  0%|          | 0/184 [00:00<?, ?it/s]"
      ]
     },
     "metadata": {},
     "output_type": "display_data"
    },
    {
     "data": {
      "application/vnd.jupyter.widget-view+json": {
       "model_id": "ebad1dd8cdc746a0b16f334e3aad2600",
       "version_major": 2,
       "version_minor": 0
      },
      "text/plain": [
       "  0%|          | 0/184 [00:00<?, ?it/s]"
      ]
     },
     "metadata": {},
     "output_type": "display_data"
    },
    {
     "data": {
      "application/vnd.jupyter.widget-view+json": {
       "model_id": "9566da83f07e41e193036cec0b6c5ee7",
       "version_major": 2,
       "version_minor": 0
      },
      "text/plain": [
       "  0%|          | 0/184 [00:00<?, ?it/s]"
      ]
     },
     "metadata": {},
     "output_type": "display_data"
    },
    {
     "data": {
      "application/vnd.jupyter.widget-view+json": {
       "model_id": "9e63b519514543a0b206b26e1c7515da",
       "version_major": 2,
       "version_minor": 0
      },
      "text/plain": [
       "  0%|          | 0/184 [00:00<?, ?it/s]"
      ]
     },
     "metadata": {},
     "output_type": "display_data"
    },
    {
     "data": {
      "application/vnd.jupyter.widget-view+json": {
       "model_id": "612a8b20869d45f0888b7c6e70f95774",
       "version_major": 2,
       "version_minor": 0
      },
      "text/plain": [
       "  0%|          | 0/184 [00:00<?, ?it/s]"
      ]
     },
     "metadata": {},
     "output_type": "display_data"
    },
    {
     "data": {
      "application/vnd.jupyter.widget-view+json": {
       "model_id": "67ebf6c31ab94f7e8fed2a2da6191cbb",
       "version_major": 2,
       "version_minor": 0
      },
      "text/plain": [
       "  0%|          | 0/184 [00:00<?, ?it/s]"
      ]
     },
     "metadata": {},
     "output_type": "display_data"
    },
    {
     "data": {
      "application/vnd.jupyter.widget-view+json": {
       "model_id": "46dac9d202494ea985a881aacd06ed08",
       "version_major": 2,
       "version_minor": 0
      },
      "text/plain": [
       "  0%|          | 0/184 [00:00<?, ?it/s]"
      ]
     },
     "metadata": {},
     "output_type": "display_data"
    },
    {
     "data": {
      "application/vnd.jupyter.widget-view+json": {
       "model_id": "e6d0237bc75d45c3830ae97fb9c8add8",
       "version_major": 2,
       "version_minor": 0
      },
      "text/plain": [
       "  0%|          | 0/184 [00:00<?, ?it/s]"
      ]
     },
     "metadata": {},
     "output_type": "display_data"
    }
   ],
   "source": [
    "def model_fit(enc_train, dec_train, model, epochs, batch_size):\n",
    "    for epoch in range(epochs):\n",
    "        total_loss = 0\n",
    "\n",
    "        idx_list = list(range(0, enc_train.shape[0], batch_size))\n",
    "        random.shuffle(idx_list)\n",
    "        t = tqdm(idx_list)\n",
    "\n",
    "        for (batch, idx) in enumerate(t):\n",
    "            batch_loss, enc_attns, dec_attns, dec_enc_attns = \\\n",
    "            train_step(\n",
    "                enc_train[idx:idx+batch_size],\n",
    "                dec_train[idx:idx+batch_size],\n",
    "                model,\n",
    "                optimizer\n",
    "            )\n",
    "\n",
    "            total_loss += batch_loss\n",
    "\n",
    "            t.set_description_str('Epoch %2d' % (epoch + 1))\n",
    "            t.set_postfix_str('Loss %.4f' % (total_loss.numpy() / (batch + 1)))\n",
    "            \n",
    "\n",
    "model_fit(enc_tensor, dec_tensor, transformer, epochs=10, batch_size=64)"
   ]
  },
  {
   "cell_type": "code",
   "execution_count": 72,
   "id": "817aeede",
   "metadata": {},
   "outputs": [
    {
     "name": "stdout",
     "output_type": "stream",
     "text": [
      "====================================================================================================\n",
      "Quenstion: 지루하다, 놀러가고 싶어.                \tAnswer: <UNK> <UNK> <UNK> <UNK> <UNK> <UNK> <UNK> <UNK> <UNK> <UNK> <UNK> <UNK> <UNK> <UNK> <UNK> <UNK> <UNK> <UNK> <UNK> <UNK> <UNK> <UNK> <UNK> <UNK> <UNK> <UNK> <UNK> <UNK> <UNK> <UNK> <UNK> <UNK> <UNK>\n",
      "Quenstion: 오늘 일찍 일어났더니 피곤하다.             \tAnswer: <UNK> <UNK> <UNK> <UNK> <UNK> <UNK> <UNK> <UNK> <UNK> <UNK> <UNK> <UNK> <UNK> <UNK> <UNK> <UNK> <UNK> <UNK> <UNK> <UNK> <UNK> <UNK> <UNK> <UNK> <UNK> <UNK> <UNK> <UNK> <UNK> <UNK> <UNK> <UNK> <UNK>\n",
      "Quenstion: 간만에 여자친구랑 데이트 하기로 했어.         \tAnswer: <UNK> <UNK> <UNK> <UNK> <UNK> <UNK> <UNK> <UNK> <UNK> <UNK> <UNK> <UNK> <UNK> <UNK> <UNK> <UNK> <UNK> <UNK> <UNK> <UNK> <UNK> <UNK> <UNK> <UNK> <UNK> <UNK> <UNK> <UNK> <UNK> <UNK> <UNK> <UNK> <UNK>\n",
      "Quenstion: 집에 있는다는 소리야.                  \tAnswer: <UNK> <UNK> <UNK> <UNK> <UNK> <UNK> <UNK> <UNK> <UNK> <UNK> <UNK> <UNK> <UNK> <UNK> <UNK> <UNK> <UNK> <UNK> <UNK> <UNK> <UNK> <UNK> <UNK> <UNK> <UNK> <UNK> <UNK> <UNK> <UNK> <UNK> <UNK> <UNK> <UNK>\n",
      "====================================================================================================\n"
     ]
    }
   ],
   "source": [
    "def translate(sentence, model, tokenizer, enc_tensor, dec_tensor):\n",
    "    enc_maxlen = enc_tensor.shape[-1]\n",
    "    dec_maxlen = dec_tensor.shape[-1]\n",
    "\n",
    "    sos_idx = tokenizer.word_index['<sos>']\n",
    "    eos_idx = tokenizer.word_index['<eos>']\n",
    "\n",
    "    sentence = preprocess_sentence(sentence)\n",
    "\n",
    "    m = Mecab()\n",
    "    sentence = m.morphs(sentence)\n",
    "\n",
    "    _input = tokenizer.texts_to_sequences([sentence])\n",
    "    _input = tf.keras.preprocessing.sequence.pad_sequences(\n",
    "        _input,\n",
    "        maxlen=enc_maxlen,\n",
    "        padding='post'\n",
    "    )\n",
    "\n",
    "    ids = []\n",
    "    output = tf.expand_dims([sos_idx], 0)\n",
    "\n",
    "    for i in range(dec_maxlen):\n",
    "        enc_padding_mask, combined_mask, dec_padding_mask = generate_masks(\n",
    "            _input, output\n",
    "        )\n",
    "\n",
    "        predictions, enc_attns, dec_attns, dec_enc_attns = model(\n",
    "            _input, output, enc_padding_mask, combined_mask, dec_padding_mask\n",
    "        )\n",
    "\n",
    "        predicted_id = tf.argmax(\n",
    "            tf.math.softmax(predictions, axis=-1)[0, -1]\n",
    "        ).numpy().item()\n",
    "\n",
    "        if predicted_id == eos_idx:\n",
    "            result = tokenizer.sequences_to_texts([ids])\n",
    "            return result\n",
    "\n",
    "        ids.append(predicted_id)\n",
    "        output = tf.concat([output, tf.expand_dims([predicted_id], 0)], axis=-1)\n",
    "    result = tokenizer.sequences_to_texts([ids])\n",
    "    return result\n",
    "\n",
    "\n",
    "print(\"=\" * 100)\n",
    "test_sentences = [\n",
    "    \"지루하다, 놀러가고 싶어.\",\n",
    "    \"오늘 일찍 일어났더니 피곤하다.\",\n",
    "    \"간만에 여자친구랑 데이트 하기로 했어.\",\n",
    "    \"집에 있는다는 소리야.\"\n",
    "]\n",
    "\n",
    "for sentence in test_sentences:\n",
    "    ans = translate(sentence, transformer, tokenizer, enc_tensor, dec_tensor)[0]\n",
    "    print(f\"Quenstion: {sentence:<30}\\tAnswer: {ans:<30}\")\n",
    "print(\"=\" * 100)\n"
   ]
  },
  {
   "cell_type": "code",
   "execution_count": null,
   "id": "b6de0417",
   "metadata": {},
   "outputs": [],
   "source": []
  }
 ],
 "metadata": {
  "kernelspec": {
   "display_name": "Python 3 (ipykernel)",
   "language": "python",
   "name": "python3"
  },
  "language_info": {
   "codemirror_mode": {
    "name": "ipython",
    "version": 3
   },
   "file_extension": ".py",
   "mimetype": "text/x-python",
   "name": "python",
   "nbconvert_exporter": "python",
   "pygments_lexer": "ipython3",
   "version": "3.9.7"
  }
 },
 "nbformat": 4,
 "nbformat_minor": 5
}
