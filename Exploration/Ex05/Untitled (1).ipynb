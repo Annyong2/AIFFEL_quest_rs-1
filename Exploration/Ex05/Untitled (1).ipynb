{
 "cells": [
  {
   "cell_type": "code",
   "execution_count": 16,
   "id": "3451781e",
   "metadata": {},
   "outputs": [
    {
     "data": {
      "text/html": [
       "<div>\n",
       "<style scoped>\n",
       "    .dataframe tbody tr th:only-of-type {\n",
       "        vertical-align: middle;\n",
       "    }\n",
       "\n",
       "    .dataframe tbody tr th {\n",
       "        vertical-align: top;\n",
       "    }\n",
       "\n",
       "    .dataframe thead th {\n",
       "        text-align: right;\n",
       "    }\n",
       "</style>\n",
       "<table border=\"1\" class=\"dataframe\">\n",
       "  <thead>\n",
       "    <tr style=\"text-align: right;\">\n",
       "      <th></th>\n",
       "      <th>id</th>\n",
       "      <th>document</th>\n",
       "      <th>label</th>\n",
       "    </tr>\n",
       "  </thead>\n",
       "  <tbody>\n",
       "    <tr>\n",
       "      <th>0</th>\n",
       "      <td>9976970</td>\n",
       "      <td>아 더빙.. 진짜 짜증나네요 목소리</td>\n",
       "      <td>0</td>\n",
       "    </tr>\n",
       "    <tr>\n",
       "      <th>1</th>\n",
       "      <td>3819312</td>\n",
       "      <td>흠...포스터보고 초딩영화줄....오버연기조차 가볍지 않구나</td>\n",
       "      <td>1</td>\n",
       "    </tr>\n",
       "    <tr>\n",
       "      <th>2</th>\n",
       "      <td>10265843</td>\n",
       "      <td>너무재밓었다그래서보는것을추천한다</td>\n",
       "      <td>0</td>\n",
       "    </tr>\n",
       "    <tr>\n",
       "      <th>3</th>\n",
       "      <td>9045019</td>\n",
       "      <td>교도소 이야기구먼 ..솔직히 재미는 없다..평점 조정</td>\n",
       "      <td>0</td>\n",
       "    </tr>\n",
       "    <tr>\n",
       "      <th>4</th>\n",
       "      <td>6483659</td>\n",
       "      <td>사이몬페그의 익살스런 연기가 돋보였던 영화!스파이더맨에서 늙어보이기만 했던 커스틴 ...</td>\n",
       "      <td>1</td>\n",
       "    </tr>\n",
       "  </tbody>\n",
       "</table>\n",
       "</div>"
      ],
      "text/plain": [
       "         id                                           document  label\n",
       "0   9976970                                아 더빙.. 진짜 짜증나네요 목소리      0\n",
       "1   3819312                  흠...포스터보고 초딩영화줄....오버연기조차 가볍지 않구나      1\n",
       "2  10265843                                  너무재밓었다그래서보는것을추천한다      0\n",
       "3   9045019                      교도소 이야기구먼 ..솔직히 재미는 없다..평점 조정      0\n",
       "4   6483659  사이몬페그의 익살스런 연기가 돋보였던 영화!스파이더맨에서 늙어보이기만 했던 커스틴 ...      1"
      ]
     },
     "execution_count": 16,
     "metadata": {},
     "output_type": "execute_result"
    }
   ],
   "source": [
    "import pandas as pd\n",
    "\n",
    "# 데이터를 읽어봅시다. \n",
    "train_data = pd.read_table('~/aiffel/sentiment_classification/data/ratings_train.txt')\n",
    "test_data = pd.read_table('~/aiffel/sentiment_classification/data/ratings_test.txt')\n",
    "\n",
    "train_data.head()"
   ]
  },
  {
   "cell_type": "code",
   "execution_count": 24,
   "id": "d9872402",
   "metadata": {},
   "outputs": [],
   "source": [
    "from konlpy.tag import Mecab\n",
    "import numpy as np\n",
    "from collections import Counter\n",
    "\n",
    "tokenizer = Mecab()\n",
    "stopwords = ['의','가','이','은','들','는','좀','잘','걍','과','도','를','으로','자','에','와','한','하다']\n",
    "\n",
    "def load_data(train_data, test_data, num_words=10000):\n",
    "    train_data.drop_duplicates(subset=['document'], inplace=True)\n",
    "    train_data = train_data.dropna(how='any')\n",
    "    test_data.drop_duplicates(subset=['document'], inplace=True)\n",
    "    test_data = test_data.dropna(how='any')\n",
    "    \n",
    "    X_train = []\n",
    "    for sentence in train_data['document']:\n",
    "        temp_X = tokenizer.morphs(sentence)  # Tokenization\n",
    "        temp_X = [word for word in temp_X if not word in stopwords]  # Stopword removal\n",
    "        X_train.append(temp_X)\n",
    "\n",
    "    X_test = []\n",
    "    for sentence in test_data['document']:\n",
    "        temp_X = tokenizer.morphs(sentence)  # Tokenization\n",
    "        temp_X = [word for word in temp_X if not word in stopwords]  # Stopword removal\n",
    "        X_test.append(temp_X)\n",
    "    \n",
    "    # Construct the vocabulary\n",
    "    words = np.concatenate(X_train).tolist()\n",
    "    counter = Counter(words)\n",
    "    counter = counter.most_common(num_words - 4)  # Reserve 4 for special tokens\n",
    "\n",
    "    # Add special tokens\n",
    "    vocab = ['<PAD>', '<UNK>', '<BOS>', '<EOS>'] + [key for key, _ in counter]\n",
    "    word_to_index = {word: index for index, word in enumerate(vocab)}\n",
    "\n",
    "    def wordlist_to_indexlist(wordlist):\n",
    "        return [word_to_index[word] if word in word_to_index else word_to_index['<UNK>'] for word in wordlist]\n",
    "\n",
    "    X_train = list(map(wordlist_to_indexlist, X_train))\n",
    "    X_test = list(map(wordlist_to_indexlist, X_test))\n",
    "    \n",
    "    return X_train, np.array(list(train_data['label'])), X_test, np.array(list(test_data['label'])), word_to_index\n",
    "X_train, y_train, X_test, y_test, word_to_index = load_data(train_data, test_data)"
   ]
  },
  {
   "cell_type": "code",
   "execution_count": 26,
   "id": "b99c110c",
   "metadata": {},
   "outputs": [],
   "source": [
    "import tensorflow as tf\n",
    "from tensorflow.keras.models import Sequential\n",
    "from tensorflow.keras.layers import Dense, Embedding, Flatten, Conv1D, MaxPooling1D, GlobalMaxPooling1D, LSTM\n",
    "from tensorflow.keras.preprocessing.sequence import pad_sequences\n",
    "x_train = tf.keras.preprocessing.sequence.pad_sequences(X_train,\n",
    "                                                        value=word_to_index[\"<PAD>\"],\n",
    "                                                        padding='post', # 혹은 'pre'\n",
    "                                                        maxlen=maxlen)\n",
    "\n",
    "x_test = tf.keras.preprocessing.sequence.pad_sequences(X_test,\n",
    "                                                       value=word_to_index[\"<PAD>\"],\n",
    "                                                       padding='post', # 혹은 'pre'\n",
    "                                                       maxlen=maxlen)"
   ]
  },
  {
   "cell_type": "code",
   "execution_count": 27,
   "id": "2f3f1fa1",
   "metadata": {},
   "outputs": [
    {
     "name": "stdout",
     "output_type": "stream",
     "text": [
      "Model: \"sequential\"\n",
      "_________________________________________________________________\n",
      "Layer (type)                 Output Shape              Param #   \n",
      "=================================================================\n",
      "embedding (Embedding)        (None, None, 4)           40        \n",
      "_________________________________________________________________\n",
      "conv1d (Conv1D)              (None, None, 16)          464       \n",
      "_________________________________________________________________\n",
      "max_pooling1d (MaxPooling1D) (None, None, 16)          0         \n",
      "_________________________________________________________________\n",
      "conv1d_1 (Conv1D)            (None, None, 16)          1808      \n",
      "_________________________________________________________________\n",
      "global_max_pooling1d (Global (None, 16)                0         \n",
      "_________________________________________________________________\n",
      "dense (Dense)                (None, 8)                 136       \n",
      "_________________________________________________________________\n",
      "dense_1 (Dense)              (None, 1)                 9         \n",
      "=================================================================\n",
      "Total params: 2,457\n",
      "Trainable params: 2,457\n",
      "Non-trainable params: 0\n",
      "_________________________________________________________________\n"
     ]
    }
   ],
   "source": [
    "### 모델구성 3가지 이상 ####  -----첫번째 cnn 방식\n",
    "vocab_size = 10  # 어휘 사전의 크기입니다(10개의 단어)\n",
    "word_vector_dim = 4   # 단어 하나를 표현하는 임베딩 벡터의 차원 수입니다. \n",
    "\n",
    "model = tf.keras.Sequential()\n",
    "model.add(tf.keras.layers.Embedding(vocab_size, word_vector_dim, input_shape=(None,)))\n",
    "model.add(tf.keras.layers.Conv1D(16, 7, activation='relu'))\n",
    "model.add(tf.keras.layers.MaxPooling1D(5))\n",
    "model.add(tf.keras.layers.Conv1D(16, 7, activation='relu'))\n",
    "model.add(tf.keras.layers.GlobalMaxPooling1D())\n",
    "model.add(tf.keras.layers.Dense(8, activation='relu'))\n",
    "model.add(tf.keras.layers.Dense(1, activation='sigmoid'))  # 최종 출력은 긍정/부정을 나타내는 1dim 입니다.\n",
    "model.summary()"
   ]
  },
  {
   "cell_type": "code",
   "execution_count": 29,
   "id": "421ecaf8",
   "metadata": {},
   "outputs": [],
   "source": [
    "x_val = x_train[:20000]   \n",
    "y_val = y_train[:20000]\n",
    "\n",
    "partial_x_train = x_train[20000:]  \n",
    "partial_y_train = y_train[20000:]"
   ]
  },
  {
   "cell_type": "code",
   "execution_count": 30,
   "id": "cea4b151",
   "metadata": {},
   "outputs": [
    {
     "name": "stdout",
     "output_type": "stream",
     "text": [
      "Epoch 1/25\n",
      "247/247 [==============================] - 5s 6ms/step - loss: 0.6921 - accuracy: 0.5163 - val_loss: 0.6894 - val_accuracy: 0.5380\n",
      "Epoch 2/25\n",
      "247/247 [==============================] - 1s 5ms/step - loss: 0.6880 - accuracy: 0.5440 - val_loss: 0.6853 - val_accuracy: 0.5565\n",
      "Epoch 3/25\n",
      "247/247 [==============================] - 1s 5ms/step - loss: 0.6866 - accuracy: 0.5472 - val_loss: 0.6846 - val_accuracy: 0.5598\n",
      "Epoch 4/25\n",
      "247/247 [==============================] - 1s 5ms/step - loss: 0.6858 - accuracy: 0.5494 - val_loss: 0.6839 - val_accuracy: 0.5606\n",
      "Epoch 5/25\n",
      "247/247 [==============================] - 1s 5ms/step - loss: 0.6848 - accuracy: 0.5535 - val_loss: 0.6839 - val_accuracy: 0.5611\n",
      "Epoch 6/25\n",
      "247/247 [==============================] - 1s 5ms/step - loss: 0.6844 - accuracy: 0.5540 - val_loss: 0.6831 - val_accuracy: 0.5617\n",
      "Epoch 7/25\n",
      "247/247 [==============================] - 1s 5ms/step - loss: 0.6835 - accuracy: 0.5560 - val_loss: 0.6831 - val_accuracy: 0.5602\n",
      "Epoch 8/25\n",
      "247/247 [==============================] - 1s 5ms/step - loss: 0.6831 - accuracy: 0.5564 - val_loss: 0.6825 - val_accuracy: 0.5631\n",
      "Epoch 9/25\n",
      "247/247 [==============================] - 1s 5ms/step - loss: 0.6826 - accuracy: 0.5580 - val_loss: 0.6824 - val_accuracy: 0.5646\n",
      "Epoch 10/25\n",
      "247/247 [==============================] - 1s 5ms/step - loss: 0.6820 - accuracy: 0.5590 - val_loss: 0.6826 - val_accuracy: 0.5613\n",
      "Epoch 11/25\n",
      "247/247 [==============================] - 1s 5ms/step - loss: 0.6816 - accuracy: 0.5598 - val_loss: 0.6818 - val_accuracy: 0.5653\n",
      "Epoch 12/25\n",
      "247/247 [==============================] - 1s 5ms/step - loss: 0.6812 - accuracy: 0.5613 - val_loss: 0.6822 - val_accuracy: 0.5638\n",
      "Epoch 13/25\n",
      "247/247 [==============================] - 1s 5ms/step - loss: 0.6809 - accuracy: 0.5613 - val_loss: 0.6820 - val_accuracy: 0.5610\n",
      "Epoch 14/25\n",
      "247/247 [==============================] - 1s 5ms/step - loss: 0.6803 - accuracy: 0.5629 - val_loss: 0.6821 - val_accuracy: 0.5638\n",
      "Epoch 15/25\n",
      "247/247 [==============================] - 1s 5ms/step - loss: 0.6800 - accuracy: 0.5635 - val_loss: 0.6818 - val_accuracy: 0.5658\n",
      "Epoch 16/25\n",
      "247/247 [==============================] - 1s 5ms/step - loss: 0.6794 - accuracy: 0.5646 - val_loss: 0.6816 - val_accuracy: 0.5643\n",
      "Epoch 17/25\n",
      "247/247 [==============================] - 1s 5ms/step - loss: 0.6790 - accuracy: 0.5657 - val_loss: 0.6814 - val_accuracy: 0.5652\n",
      "Epoch 18/25\n",
      "247/247 [==============================] - 1s 5ms/step - loss: 0.6789 - accuracy: 0.5662 - val_loss: 0.6814 - val_accuracy: 0.5632\n",
      "Epoch 19/25\n",
      "247/247 [==============================] - 1s 5ms/step - loss: 0.6784 - accuracy: 0.5670 - val_loss: 0.6818 - val_accuracy: 0.5623\n",
      "Epoch 20/25\n",
      "247/247 [==============================] - 1s 5ms/step - loss: 0.6780 - accuracy: 0.5676 - val_loss: 0.6822 - val_accuracy: 0.5611\n",
      "Epoch 21/25\n",
      "247/247 [==============================] - 1s 5ms/step - loss: 0.6777 - accuracy: 0.5675 - val_loss: 0.6814 - val_accuracy: 0.5628\n",
      "Epoch 22/25\n",
      "247/247 [==============================] - 1s 5ms/step - loss: 0.6776 - accuracy: 0.5696 - val_loss: 0.6814 - val_accuracy: 0.5626\n",
      "Epoch 23/25\n",
      "247/247 [==============================] - 1s 5ms/step - loss: 0.6771 - accuracy: 0.5687 - val_loss: 0.6813 - val_accuracy: 0.5633\n",
      "Epoch 24/25\n",
      "247/247 [==============================] - 1s 5ms/step - loss: 0.6770 - accuracy: 0.5690 - val_loss: 0.6816 - val_accuracy: 0.5622\n",
      "Epoch 25/25\n",
      "247/247 [==============================] - 1s 5ms/step - loss: 0.6765 - accuracy: 0.5692 - val_loss: 0.6819 - val_accuracy: 0.5605\n"
     ]
    }
   ],
   "source": [
    "model.compile(optimizer='adam',\n",
    "              loss='binary_crossentropy',\n",
    "              metrics=['accuracy'])\n",
    "              \n",
    "epochs=25  # 몇 epoch를 훈련하면 좋을지 결과를 보면서 바꾸어 봅시다. \n",
    "\n",
    "history = model.fit(partial_x_train,\n",
    "                    partial_y_train,\n",
    "                    epochs=epochs,\n",
    "                    batch_size=512,\n",
    "                    validation_data=(x_val, y_val),\n",
    "                    verbose=1)"
   ]
  },
  {
   "cell_type": "code",
   "execution_count": 31,
   "id": "c4832096",
   "metadata": {},
   "outputs": [
    {
     "name": "stdout",
     "output_type": "stream",
     "text": [
      "1537/1537 - 3s - loss: 0.6865 - accuracy: 0.5566\n"
     ]
    }
   ],
   "source": [
    "results = model.evaluate(x_test,  y_test, verbose=2)"
   ]
  },
  {
   "cell_type": "code",
   "execution_count": 32,
   "id": "5b48ff50",
   "metadata": {},
   "outputs": [
    {
     "name": "stdout",
     "output_type": "stream",
     "text": [
      "dict_keys(['loss', 'accuracy', 'val_loss', 'val_accuracy'])\n"
     ]
    }
   ],
   "source": [
    "history_dict = history.history\n",
    "print(history_dict.keys())"
   ]
  },
  {
   "cell_type": "code",
   "execution_count": 33,
   "id": "0020ffd4",
   "metadata": {},
   "outputs": [
    {
     "data": {
      "image/png": "[encoded data removed]",
      "text/plain": [
       "<Figure size 432x288 with 1 Axes>"
      ]
     },
     "metadata": {
      "needs_background": "light"
     },
     "output_type": "display_data"
    }
   ],
   "source": [
    "import matplotlib.pyplot as plt\n",
    "\n",
    "acc = history_dict['accuracy']\n",
    "val_acc = history_dict['val_accuracy']\n",
    "loss = history_dict['loss']\n",
    "val_loss = history_dict['val_loss']\n",
    "\n",
    "epochs = range(1, len(acc) + 1)\n",
    "\n",
    "# \"bo\"는 \"파란색 점\"입니다\n",
    "plt.plot(epochs, loss, 'bo', label='Training loss')\n",
    "# b는 \"파란 실선\"입니다\n",
    "plt.plot(epochs, val_loss, 'b', label='Validation loss')\n",
    "plt.title('Training and validation loss')\n",
    "plt.xlabel('Epochs')\n",
    "plt.ylabel('Loss')\n",
    "plt.legend()\n",
    "\n",
    "plt.show()"
   ]
  },
  {
   "cell_type": "code",
   "execution_count": 34,
   "id": "8f16c128",
   "metadata": {},
   "outputs": [
    {
     "data": {
      "image/png": "[encoded data removed]",
      "text/plain": [
       "<Figure size 432x288 with 1 Axes>"
      ]
     },
     "metadata": {
      "needs_background": "light"
     },
     "output_type": "display_data"
    }
   ],
   "source": [
    "plt.clf()   # 그림을 초기화합니다\n",
    "\n",
    "plt.plot(epochs, acc, 'bo', label='Training acc')\n",
    "plt.plot(epochs, val_acc, 'b', label='Validation acc')\n",
    "plt.title('Training and validation accuracy')\n",
    "plt.xlabel('Epochs')\n",
    "plt.ylabel('Accuracy')\n",
    "plt.legend()\n",
    "\n",
    "plt.show()"
   ]
  },
  {
   "cell_type": "code",
   "execution_count": 35,
   "id": "5b3d838f",
   "metadata": {},
   "outputs": [
    {
     "name": "stdout",
     "output_type": "stream",
     "text": [
      "Model: \"sequential_1\"\n",
      "_________________________________________________________________\n",
      "Layer (type)                 Output Shape              Param #   \n",
      "=================================================================\n",
      "embedding_1 (Embedding)      (None, None, 4)           40        \n",
      "_________________________________________________________________\n",
      "global_max_pooling1d_1 (Glob (None, 4)                 0         \n",
      "_________________________________________________________________\n",
      "dense_2 (Dense)              (None, 8)                 40        \n",
      "_________________________________________________________________\n",
      "dense_3 (Dense)              (None, 1)                 9         \n",
      "=================================================================\n",
      "Total params: 89\n",
      "Trainable params: 89\n",
      "Non-trainable params: 0\n",
      "_________________________________________________________________\n"
     ]
    }
   ],
   "source": [
    "#### 모델구성 2번째 방식 --- GlobalMaxPooling1D 방식 (간단한 모델)\n",
    "vocab_size = 10  # 어휘 사전의 크기입니다(10개의 단어)\n",
    "word_vector_dim = 4   # 단어 하나를 표현하는 임베딩 벡터의 차원 수입니다. \n",
    "\n",
    "model = tf.keras.Sequential()\n",
    "model.add(tf.keras.layers.Embedding(vocab_size, word_vector_dim, input_shape=(None,)))\n",
    "model.add(tf.keras.layers.GlobalMaxPooling1D())\n",
    "model.add(tf.keras.layers.Dense(8, activation='relu'))\n",
    "model.add(tf.keras.layers.Dense(1, activation='sigmoid'))  # 최종 출력은 긍정/부정을 나타내는 1dim 입니다.\n",
    "\n",
    "model.summary()"
   ]
  },
  {
   "cell_type": "code",
   "execution_count": 36,
   "id": "19a39e0a",
   "metadata": {},
   "outputs": [],
   "source": [
    "x_val = x_train[:20000]   \n",
    "y_val = y_train[:20000]\n",
    "\n",
    "partial_x_train = x_train[20000:]  \n",
    "partial_y_train = y_train[20000:]"
   ]
  },
  {
   "cell_type": "code",
   "execution_count": 37,
   "id": "b9e91155",
   "metadata": {},
   "outputs": [
    {
     "name": "stdout",
     "output_type": "stream",
     "text": [
      "Epoch 1/25\n",
      "247/247 [==============================] - 1s 4ms/step - loss: 0.6920 - accuracy: 0.5341 - val_loss: 0.6907 - val_accuracy: 0.5449\n",
      "Epoch 2/25\n",
      "247/247 [==============================] - 1s 3ms/step - loss: 0.6902 - accuracy: 0.5422 - val_loss: 0.6896 - val_accuracy: 0.5449\n",
      "Epoch 3/25\n",
      "247/247 [==============================] - 1s 3ms/step - loss: 0.6897 - accuracy: 0.5422 - val_loss: 0.6894 - val_accuracy: 0.5449\n",
      "Epoch 4/25\n",
      "247/247 [==============================] - 1s 3ms/step - loss: 0.6896 - accuracy: 0.5422 - val_loss: 0.6894 - val_accuracy: 0.5449\n",
      "Epoch 5/25\n",
      "247/247 [==============================] - 1s 3ms/step - loss: 0.6896 - accuracy: 0.5422 - val_loss: 0.6894 - val_accuracy: 0.5444\n",
      "Epoch 6/25\n",
      "247/247 [==============================] - 1s 3ms/step - loss: 0.6896 - accuracy: 0.5421 - val_loss: 0.6894 - val_accuracy: 0.5444\n",
      "Epoch 7/25\n",
      "247/247 [==============================] - 1s 4ms/step - loss: 0.6896 - accuracy: 0.5425 - val_loss: 0.6894 - val_accuracy: 0.5444\n",
      "Epoch 8/25\n",
      "247/247 [==============================] - 1s 3ms/step - loss: 0.6895 - accuracy: 0.5425 - val_loss: 0.6893 - val_accuracy: 0.5444\n",
      "Epoch 9/25\n",
      "247/247 [==============================] - 1s 3ms/step - loss: 0.6896 - accuracy: 0.5425 - val_loss: 0.6893 - val_accuracy: 0.5444\n",
      "Epoch 10/25\n",
      "247/247 [==============================] - 1s 3ms/step - loss: 0.6895 - accuracy: 0.5425 - val_loss: 0.6894 - val_accuracy: 0.5444\n",
      "Epoch 11/25\n",
      "247/247 [==============================] - 1s 4ms/step - loss: 0.6895 - accuracy: 0.5425 - val_loss: 0.6893 - val_accuracy: 0.5444\n",
      "Epoch 12/25\n",
      "247/247 [==============================] - 1s 3ms/step - loss: 0.6895 - accuracy: 0.5425 - val_loss: 0.6894 - val_accuracy: 0.5444\n",
      "Epoch 13/25\n",
      "247/247 [==============================] - 1s 4ms/step - loss: 0.6895 - accuracy: 0.5425 - val_loss: 0.6893 - val_accuracy: 0.5444\n",
      "Epoch 14/25\n",
      "247/247 [==============================] - 1s 3ms/step - loss: 0.6895 - accuracy: 0.5425 - val_loss: 0.6893 - val_accuracy: 0.5444\n",
      "Epoch 15/25\n",
      "247/247 [==============================] - 1s 3ms/step - loss: 0.6895 - accuracy: 0.5425 - val_loss: 0.6893 - val_accuracy: 0.5444\n",
      "Epoch 16/25\n",
      "247/247 [==============================] - 1s 3ms/step - loss: 0.6895 - accuracy: 0.5425 - val_loss: 0.6896 - val_accuracy: 0.5444\n",
      "Epoch 17/25\n",
      "247/247 [==============================] - 1s 3ms/step - loss: 0.6895 - accuracy: 0.5425 - val_loss: 0.6894 - val_accuracy: 0.5444\n",
      "Epoch 18/25\n",
      "247/247 [==============================] - 1s 3ms/step - loss: 0.6895 - accuracy: 0.5425 - val_loss: 0.6893 - val_accuracy: 0.5444\n",
      "Epoch 19/25\n",
      "247/247 [==============================] - 1s 4ms/step - loss: 0.6895 - accuracy: 0.5425 - val_loss: 0.6893 - val_accuracy: 0.5444\n",
      "Epoch 20/25\n",
      "247/247 [==============================] - 1s 3ms/step - loss: 0.6895 - accuracy: 0.5425 - val_loss: 0.6893 - val_accuracy: 0.5444\n",
      "Epoch 21/25\n",
      "247/247 [==============================] - 1s 3ms/step - loss: 0.6895 - accuracy: 0.5425 - val_loss: 0.6893 - val_accuracy: 0.5444\n",
      "Epoch 22/25\n",
      "247/247 [==============================] - 1s 4ms/step - loss: 0.6895 - accuracy: 0.5425 - val_loss: 0.6893 - val_accuracy: 0.5444\n",
      "Epoch 23/25\n",
      "247/247 [==============================] - 1s 4ms/step - loss: 0.6895 - accuracy: 0.5425 - val_loss: 0.6893 - val_accuracy: 0.5444\n",
      "Epoch 24/25\n",
      "247/247 [==============================] - 1s 3ms/step - loss: 0.6895 - accuracy: 0.5425 - val_loss: 0.6893 - val_accuracy: 0.5444\n",
      "Epoch 25/25\n",
      "247/247 [==============================] - 1s 3ms/step - loss: 0.6895 - accuracy: 0.5425 - val_loss: 0.6894 - val_accuracy: 0.5444\n"
     ]
    }
   ],
   "source": [
    "model.compile(optimizer='adam',\n",
    "              loss='binary_crossentropy',\n",
    "              metrics=['accuracy'])\n",
    "              \n",
    "epochs=25  # 몇 epoch를 훈련하면 좋을지 결과를 보면서 바꾸어 봅시다. \n",
    "\n",
    "history = model.fit(partial_x_train,\n",
    "                    partial_y_train,\n",
    "                    epochs=epochs,\n",
    "                    batch_size=512,\n",
    "                    validation_data=(x_val, y_val),\n",
    "                    verbose=1)"
   ]
  },
  {
   "cell_type": "code",
   "execution_count": 38,
   "id": "6acf3076",
   "metadata": {},
   "outputs": [
    {
     "name": "stdout",
     "output_type": "stream",
     "text": [
      "1537/1537 - 2s - loss: 0.6902 - accuracy: 0.5379\n"
     ]
    }
   ],
   "source": [
    "results = model.evaluate(x_test,  y_test, verbose=2)"
   ]
  },
  {
   "cell_type": "code",
   "execution_count": 42,
   "id": "deb59649",
   "metadata": {},
   "outputs": [
    {
     "name": "stdout",
     "output_type": "stream",
     "text": [
      "Model: \"sequential_3\"\n",
      "_________________________________________________________________\n",
      "Layer (type)                 Output Shape              Param #   \n",
      "=================================================================\n",
      "embedding_3 (Embedding)      (None, None, 128)         2560000   \n",
      "_________________________________________________________________\n",
      "bidirectional (Bidirectional (None, 128)               98816     \n",
      "_________________________________________________________________\n",
      "dense_6 (Dense)              (None, 64)                8256      \n",
      "_________________________________________________________________\n",
      "dropout (Dropout)            (None, 64)                0         \n",
      "_________________________________________________________________\n",
      "dense_7 (Dense)              (None, 1)                 65        \n",
      "=================================================================\n",
      "Total params: 2,667,137\n",
      "Trainable params: 2,667,137\n",
      "Non-trainable params: 0\n",
      "_________________________________________________________________\n"
     ]
    }
   ],
   "source": [
    "####### 모델3(LSTM) ###########\n",
    "vocab_size = 20000  # Increased vocab size\n",
    "word_vector_dim = 128  # Increased word embedding dimension\n",
    "\n",
    "model = tf.keras.Sequential()\n",
    "\n",
    "# Embedding layer\n",
    "model.add(tf.keras.layers.Embedding(vocab_size, word_vector_dim, input_shape=(None,)))\n",
    "\n",
    "# Bidirectional LSTM layer with more units\n",
    "model.add(tf.keras.layers.Bidirectional(tf.keras.layers.LSTM(64, return_sequences=False)))\n",
    "\n",
    "# Dense layers with dropout for regularization\n",
    "model.add(tf.keras.layers.Dense(64, activation='relu'))\n",
    "model.add(tf.keras.layers.Dropout(0.5))  # Dropout to prevent overfitting\n",
    "\n",
    "# Output layer\n",
    "model.add(tf.keras.layers.Dense(1, activation='sigmoid'))  # Sigmoid for binary classification\n",
    "\n",
    "# Compile the model with an optimizer and a suitable learning rate\n",
    "model.compile(optimizer=tf.keras.optimizers.Adam(learning_rate=1e-4),\n",
    "              loss='binary_crossentropy',\n",
    "              metrics=['accuracy'])\n",
    "\n",
    "model.summary()"
   ]
  },
  {
   "cell_type": "code",
   "execution_count": 43,
   "id": "841daa84",
   "metadata": {},
   "outputs": [],
   "source": [
    "x_val = x_train[:20000]   \n",
    "y_val = y_train[:20000]\n",
    "\n",
    "partial_x_train = x_train[20000:]  \n",
    "partial_y_train = y_train[20000:]"
   ]
  },
  {
   "cell_type": "code",
   "execution_count": 44,
   "id": "c8da93ab",
   "metadata": {},
   "outputs": [
    {
     "name": "stdout",
     "output_type": "stream",
     "text": [
      "Epoch 1/25\n",
      "247/247 [==============================] - 9s 26ms/step - loss: 0.4313 - accuracy: 0.7980 - val_loss: 0.3453 - val_accuracy: 0.8496\n",
      "Epoch 2/25\n",
      "247/247 [==============================] - 6s 23ms/step - loss: 0.3209 - accuracy: 0.8649 - val_loss: 0.3343 - val_accuracy: 0.8558\n",
      "Epoch 3/25\n",
      "247/247 [==============================] - 6s 23ms/step - loss: 0.2879 - accuracy: 0.8788 - val_loss: 0.3317 - val_accuracy: 0.8563\n",
      "Epoch 4/25\n",
      "247/247 [==============================] - 6s 24ms/step - loss: 0.2594 - accuracy: 0.8898 - val_loss: 0.3466 - val_accuracy: 0.8571\n",
      "Epoch 5/25\n",
      "247/247 [==============================] - 6s 24ms/step - loss: 0.2343 - accuracy: 0.9010 - val_loss: 0.3730 - val_accuracy: 0.8551\n",
      "Epoch 6/25\n",
      "247/247 [==============================] - 6s 24ms/step - loss: 0.2127 - accuracy: 0.9118 - val_loss: 0.3869 - val_accuracy: 0.8565\n",
      "Epoch 7/25\n",
      "247/247 [==============================] - 6s 24ms/step - loss: 0.1931 - accuracy: 0.9201 - val_loss: 0.4326 - val_accuracy: 0.8559\n",
      "Epoch 8/25\n",
      "247/247 [==============================] - 6s 24ms/step - loss: 0.1745 - accuracy: 0.9283 - val_loss: 0.5007 - val_accuracy: 0.8540\n",
      "Epoch 9/25\n",
      "247/247 [==============================] - 6s 24ms/step - loss: 0.1554 - accuracy: 0.9368 - val_loss: 0.4834 - val_accuracy: 0.8508\n",
      "Epoch 10/25\n",
      "247/247 [==============================] - 6s 24ms/step - loss: 0.1426 - accuracy: 0.9417 - val_loss: 0.5732 - val_accuracy: 0.8529\n",
      "Epoch 11/25\n",
      "247/247 [==============================] - 6s 24ms/step - loss: 0.1249 - accuracy: 0.9497 - val_loss: 0.6216 - val_accuracy: 0.8482\n",
      "Epoch 12/25\n",
      "247/247 [==============================] - 6s 24ms/step - loss: 0.1128 - accuracy: 0.9549 - val_loss: 0.6614 - val_accuracy: 0.8468\n",
      "Epoch 13/25\n",
      "247/247 [==============================] - 6s 23ms/step - loss: 0.1017 - accuracy: 0.9596 - val_loss: 0.7125 - val_accuracy: 0.8436\n",
      "Epoch 14/25\n",
      "247/247 [==============================] - 6s 23ms/step - loss: 0.0929 - accuracy: 0.9629 - val_loss: 0.7814 - val_accuracy: 0.8424\n",
      "Epoch 15/25\n",
      "247/247 [==============================] - 6s 24ms/step - loss: 0.0827 - accuracy: 0.9667 - val_loss: 0.8152 - val_accuracy: 0.8428\n",
      "Epoch 16/25\n",
      "247/247 [==============================] - 6s 23ms/step - loss: 0.0765 - accuracy: 0.9696 - val_loss: 0.9200 - val_accuracy: 0.8418\n",
      "Epoch 17/25\n",
      "247/247 [==============================] - 6s 23ms/step - loss: 0.0697 - accuracy: 0.9719 - val_loss: 0.9213 - val_accuracy: 0.8388\n",
      "Epoch 18/25\n",
      "247/247 [==============================] - 6s 24ms/step - loss: 0.0631 - accuracy: 0.9745 - val_loss: 1.0345 - val_accuracy: 0.8429\n",
      "Epoch 19/25\n",
      "247/247 [==============================] - 6s 24ms/step - loss: 0.0573 - accuracy: 0.9761 - val_loss: 1.0732 - val_accuracy: 0.8419\n",
      "Epoch 20/25\n",
      "247/247 [==============================] - 6s 24ms/step - loss: 0.0564 - accuracy: 0.9772 - val_loss: 1.0924 - val_accuracy: 0.8429\n",
      "Epoch 21/25\n",
      "247/247 [==============================] - 6s 24ms/step - loss: 0.0502 - accuracy: 0.9792 - val_loss: 1.1410 - val_accuracy: 0.8402\n",
      "Epoch 22/25\n",
      "247/247 [==============================] - 6s 24ms/step - loss: 0.0481 - accuracy: 0.9803 - val_loss: 1.1755 - val_accuracy: 0.8388\n",
      "Epoch 23/25\n",
      "247/247 [==============================] - 6s 24ms/step - loss: 0.0460 - accuracy: 0.9810 - val_loss: 1.1703 - val_accuracy: 0.8407\n",
      "Epoch 24/25\n",
      "247/247 [==============================] - 6s 24ms/step - loss: 0.0421 - accuracy: 0.9823 - val_loss: 1.2753 - val_accuracy: 0.8425\n",
      "Epoch 25/25\n",
      "247/247 [==============================] - 6s 24ms/step - loss: 0.0402 - accuracy: 0.9827 - val_loss: 1.3154 - val_accuracy: 0.8389\n"
     ]
    }
   ],
   "source": [
    "model.compile(optimizer='adam',\n",
    "              loss='binary_crossentropy',\n",
    "              metrics=['accuracy'])\n",
    "              \n",
    "epochs=25  # 몇 epoch를 훈련하면 좋을지 결과를 보면서 바꾸어 봅시다. \n",
    "\n",
    "history = model.fit(partial_x_train,\n",
    "                    partial_y_train,\n",
    "                    epochs=epochs,\n",
    "                    batch_size=512,\n",
    "                    validation_data=(x_val, y_val),\n",
    "                    verbose=1)"
   ]
  },
  {
   "cell_type": "code",
   "execution_count": 45,
   "id": "282f6cb9",
   "metadata": {},
   "outputs": [
    {
     "name": "stdout",
     "output_type": "stream",
     "text": [
      "1537/1537 - 6s - loss: 1.3045 - accuracy: 0.8350\n"
     ]
    }
   ],
   "source": [
    "results = model.evaluate(x_test,  y_test, verbose=2)"
   ]
  },
  {
   "cell_type": "code",
   "execution_count": 48,
   "id": "16024fc7",
   "metadata": {},
   "outputs": [
    {
     "data": {
      "image/png": "[encoded data removed]",
      "text/plain": [
       "<Figure size 864x288 with 2 Axes>"
      ]
     },
     "metadata": {
      "needs_background": "light"
     },
     "output_type": "display_data"
    }
   ],
   "source": [
    "def plot_history(history):\n",
    "    # Loss 시각화\n",
    "    plt.figure(figsize=(12, 4))\n",
    "    \n",
    "    # Training & Validation Loss\n",
    "    plt.subplot(1, 2, 1)\n",
    "    plt.plot(history.history['loss'], label='Train Loss')\n",
    "    plt.plot(history.history['val_loss'], label='Validation Loss')\n",
    "    plt.title('Loss')\n",
    "    plt.xlabel('Epochs')\n",
    "    plt.ylabel('Loss')\n",
    "    plt.legend()\n",
    "    \n",
    "    # Accuracy 시각화\n",
    "    plt.subplot(1, 2, 2)\n",
    "    plt.plot(history.history['accuracy'], label='Train Accuracy')\n",
    "    plt.plot(history.history['val_accuracy'], label='Validation Accuracy')\n",
    "    plt.title('Accuracy')\n",
    "    plt.xlabel('Epochs')\n",
    "    plt.ylabel('Accuracy')\n",
    "    plt.legend()\n",
    "    \n",
    "    # 그래프 출력\n",
    "    plt.show()\n",
    "\n",
    "# 그래프 시각화 호출\n",
    "plot_history(history)"
   ]
  },
  {
   "cell_type": "code",
   "execution_count": 49,
   "id": "8105a526",
   "metadata": {},
   "outputs": [
    {
     "name": "stdout",
     "output_type": "stream",
     "text": [
      "(20000, 128)\n"
     ]
    }
   ],
   "source": [
    "embedding_layer = model.layers[0]\n",
    "weights = embedding_layer.get_weights()[0]\n",
    "print(weights.shape)"
   ]
  },
  {
   "cell_type": "code",
   "execution_count": 53,
   "id": "ba2f6c8d",
   "metadata": {},
   "outputs": [
    {
     "ename": "EOFError",
     "evalue": "Ran out of input",
     "output_type": "error",
     "traceback": [
      "\u001b[0;31m---------------------------------------------------------------------------\u001b[0m",
      "\u001b[0;31mEOFError\u001b[0m                                  Traceback (most recent call last)",
      "\u001b[0;32m/tmp/ipykernel_46/4148725417.py\u001b[0m in \u001b[0;36m<module>\u001b[0;34m\u001b[0m\n\u001b[1;32m      8\u001b[0m \u001b[0;34m\u001b[0m\u001b[0m\n\u001b[1;32m      9\u001b[0m \u001b[0mword2vec_file_path\u001b[0m \u001b[0;34m=\u001b[0m \u001b[0mos\u001b[0m\u001b[0;34m.\u001b[0m\u001b[0mgetenv\u001b[0m\u001b[0;34m(\u001b[0m\u001b[0;34m'HOME'\u001b[0m\u001b[0;34m)\u001b[0m\u001b[0;34m+\u001b[0m\u001b[0;34m'/aiffel/sentiment_classification/data/word2vec.txt'\u001b[0m\u001b[0;34m\u001b[0m\u001b[0;34m\u001b[0m\u001b[0m\n\u001b[0;32m---> 10\u001b[0;31m \u001b[0mword_vectors\u001b[0m \u001b[0;34m=\u001b[0m \u001b[0mWord2VecKeyedVectors\u001b[0m\u001b[0;34m.\u001b[0m\u001b[0mload\u001b[0m\u001b[0;34m(\u001b[0m\u001b[0mword2vec_file_path\u001b[0m\u001b[0;34m)\u001b[0m\u001b[0;34m\u001b[0m\u001b[0;34m\u001b[0m\u001b[0m\n\u001b[0m\u001b[1;32m     11\u001b[0m \u001b[0mvector\u001b[0m \u001b[0;34m=\u001b[0m \u001b[0mword_vectors\u001b[0m\u001b[0;34m.\u001b[0m\u001b[0mwv\u001b[0m\u001b[0;34m[\u001b[0m\u001b[0;34m'끝'\u001b[0m\u001b[0;34m]\u001b[0m\u001b[0;34m\u001b[0m\u001b[0;34m\u001b[0m\u001b[0m\n",
      "\u001b[0;32m/opt/conda/lib/python3.9/site-packages/gensim/utils.py\u001b[0m in \u001b[0;36mload\u001b[0;34m(cls, fname, mmap)\u001b[0m\n\u001b[1;32m    483\u001b[0m         \u001b[0mcompress\u001b[0m\u001b[0;34m,\u001b[0m \u001b[0msubname\u001b[0m \u001b[0;34m=\u001b[0m \u001b[0mSaveLoad\u001b[0m\u001b[0;34m.\u001b[0m\u001b[0m_adapt_by_suffix\u001b[0m\u001b[0;34m(\u001b[0m\u001b[0mfname\u001b[0m\u001b[0;34m)\u001b[0m\u001b[0;34m\u001b[0m\u001b[0;34m\u001b[0m\u001b[0m\n\u001b[1;32m    484\u001b[0m \u001b[0;34m\u001b[0m\u001b[0m\n\u001b[0;32m--> 485\u001b[0;31m         \u001b[0mobj\u001b[0m \u001b[0;34m=\u001b[0m \u001b[0munpickle\u001b[0m\u001b[0;34m(\u001b[0m\u001b[0mfname\u001b[0m\u001b[0;34m)\u001b[0m\u001b[0;34m\u001b[0m\u001b[0;34m\u001b[0m\u001b[0m\n\u001b[0m\u001b[1;32m    486\u001b[0m         \u001b[0mobj\u001b[0m\u001b[0;34m.\u001b[0m\u001b[0m_load_specials\u001b[0m\u001b[0;34m(\u001b[0m\u001b[0mfname\u001b[0m\u001b[0;34m,\u001b[0m \u001b[0mmmap\u001b[0m\u001b[0;34m,\u001b[0m \u001b[0mcompress\u001b[0m\u001b[0;34m,\u001b[0m \u001b[0msubname\u001b[0m\u001b[0;34m)\u001b[0m\u001b[0;34m\u001b[0m\u001b[0;34m\u001b[0m\u001b[0m\n\u001b[1;32m    487\u001b[0m         \u001b[0mobj\u001b[0m\u001b[0;34m.\u001b[0m\u001b[0madd_lifecycle_event\u001b[0m\u001b[0;34m(\u001b[0m\u001b[0;34m\"loaded\"\u001b[0m\u001b[0;34m,\u001b[0m \u001b[0mfname\u001b[0m\u001b[0;34m=\u001b[0m\u001b[0mfname\u001b[0m\u001b[0;34m)\u001b[0m\u001b[0;34m\u001b[0m\u001b[0;34m\u001b[0m\u001b[0m\n",
      "\u001b[0;32m/opt/conda/lib/python3.9/site-packages/gensim/utils.py\u001b[0m in \u001b[0;36munpickle\u001b[0;34m(fname)\u001b[0m\n\u001b[1;32m   1458\u001b[0m     \"\"\"\n\u001b[1;32m   1459\u001b[0m     \u001b[0;32mwith\u001b[0m \u001b[0mopen\u001b[0m\u001b[0;34m(\u001b[0m\u001b[0mfname\u001b[0m\u001b[0;34m,\u001b[0m \u001b[0;34m'rb'\u001b[0m\u001b[0;34m)\u001b[0m \u001b[0;32mas\u001b[0m \u001b[0mf\u001b[0m\u001b[0;34m:\u001b[0m\u001b[0;34m\u001b[0m\u001b[0;34m\u001b[0m\u001b[0m\n\u001b[0;32m-> 1460\u001b[0;31m         \u001b[0;32mreturn\u001b[0m \u001b[0m_pickle\u001b[0m\u001b[0;34m.\u001b[0m\u001b[0mload\u001b[0m\u001b[0;34m(\u001b[0m\u001b[0mf\u001b[0m\u001b[0;34m,\u001b[0m \u001b[0mencoding\u001b[0m\u001b[0;34m=\u001b[0m\u001b[0;34m'latin1'\u001b[0m\u001b[0;34m)\u001b[0m  \u001b[0;31m# needed because loading from S3 doesn't support readline()\u001b[0m\u001b[0;34m\u001b[0m\u001b[0;34m\u001b[0m\u001b[0m\n\u001b[0m\u001b[1;32m   1461\u001b[0m \u001b[0;34m\u001b[0m\u001b[0m\n\u001b[1;32m   1462\u001b[0m \u001b[0;34m\u001b[0m\u001b[0m\n",
      "\u001b[0;31mEOFError\u001b[0m: Ran out of input"
     ]
    }
   ],
   "source": [
    "###### word2vec #########\n",
    "import pandas as pd\n",
    "from gensim.models import Word2Vec\n",
    "from gensim.models.keyedvectors import Word2VecKeyedVectors\n",
    "from sklearn.model_selection import train_test_split\n",
    "from sklearn.ensemble import RandomForestClassifier\n",
    "from sklearn.metrics import accuracy_score\n",
    "\n",
    "word2vec_file_path = os.getenv('HOME')+'/aiffel/sentiment_classification/data/word2vec.txt'\n",
    "word_vectors = Word2VecKeyedVectors.load(word2vec_file_path)\n",
    "f = open(word2vec_file_path, 'w')\n",
    "f.write('{} {}\\n'.format(vocab_size-4, word_vector_dim))\n",
    "vector = word_vectors.wv['끝']\n"
   ]
  },
  {
   "cell_type": "code",
   "execution_count": null,
   "id": "30a68428",
   "metadata": {},
   "outputs": [],
   "source": [
    "############ 회고 ##############\n",
    "word2vec 적용못했는데 심사숙고하여 코드를 작성하여 잘 하겠습니다. ㅎㅎ"
   ]
  },
  {
   "cell_type": "code",
   "execution_count": null,
   "id": "c6eef787",
   "metadata": {},
   "outputs": [],
   "source": []
  },
  {
   "cell_type": "code",
   "execution_count": null,
   "id": "b2f8de20",
   "metadata": {},
   "outputs": [],
   "source": []
  }
 ],
 "metadata": {
  "kernelspec": {
   "display_name": "Python 3 (ipykernel)",
   "language": "python",
   "name": "python3"
  },
  "language_info": {
   "codemirror_mode": {
    "name": "ipython",
    "version": 3
   },
   "file_extension": ".py",
   "mimetype": "text/x-python",
   "name": "python",
   "nbconvert_exporter": "python",
   "pygments_lexer": "ipython3",
   "version": "3.9.7"
  }
 },
 "nbformat": 4,
 "nbformat_minor": 5
}
