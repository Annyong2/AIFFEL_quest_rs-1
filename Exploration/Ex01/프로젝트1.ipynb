{
  "nbformat": 4,
  "nbformat_minor": 0,
  "metadata": {
    "colab": {
      "provenance": []
    },
    "kernelspec": {
      "name": "python3",
      "display_name": "Python 3"
    },
    "language_info": {
      "name": "python"
    }
  },
  "cells": [
    {
      "cell_type": "code",
      "execution_count": 133,
      "metadata": {
        "colab": {
          "base_uri": "https://localhost:8080/"
        },
        "id": "U4hiqdbXKmXi",
        "outputId": "40f0272d-2051-4615-987a-cc9a1fe65c88"
      },
      "outputs": [
        {
          "output_type": "stream",
          "name": "stdout",
          "text": [
            "<class 'sklearn.utils._bunch.Bunch'>\n"
          ]
        }
      ],
      "source": [
        "from sklearn.datasets import load_diabetes\n",
        "import numpy as np\n",
        "diabetes = load_diabetes()\n",
        "print(type(diabetes))"
      ]
    },
    {
      "cell_type": "code",
      "source": [
        "######## (1) 데이터 가져오기 ############\n",
        "df_x = diabetes.data\n",
        "df_y = diabetes.target"
      ],
      "metadata": {
        "id": "YfKQhydjKrvs"
      },
      "execution_count": 134,
      "outputs": []
    },
    {
      "cell_type": "code",
      "source": [
        "############# 모델에 입력할 데이터 x,y 준비하기 #############\n",
        "df_x = np.array(df_x)\n",
        "df_y = np.array(df_y)"
      ],
      "metadata": {
        "id": "0J2TdP1bK5Gl"
      },
      "execution_count": 135,
      "outputs": []
    },
    {
      "cell_type": "code",
      "source": [
        "######### train 데이터와 test데이터로 분리하기 ########\n",
        "from sklearn.model_selection import train_test_split\n",
        "X_train, X_test, y_train, y_test = train_test_split(df_x, df_y, test_size=0.2, random_state=42)"
      ],
      "metadata": {
        "id": "fyC_wYr7Li6a"
      },
      "execution_count": 136,
      "outputs": []
    },
    {
      "cell_type": "code",
      "source": [
        "# (5) 모델 준비하기\n",
        "# 가중치(w)와 편향(b)를 초기화\n",
        "# 입력 데이터 개수에 맞게 가중치 벡터의 크기를 설정합니다.\n",
        "n_features = df_x.shape[1]\n",
        "print(n_features)\n",
        "w = np.zeros(n_features)\n",
        "b = 0\n",
        "\n",
        "# 선형 회귀 모델 함수 정의\n",
        "def model(X, w, b):\n",
        "    return np.dot(X, w) + b"
      ],
      "metadata": {
        "colab": {
          "base_uri": "https://localhost:8080/"
        },
        "id": "li1lE8QhL6vv",
        "outputId": "a1658568-5e4c-430e-87cc-f2d2508e47a6"
      },
      "execution_count": 137,
      "outputs": [
        {
          "output_type": "stream",
          "name": "stdout",
          "text": [
            "10\n"
          ]
        }
      ]
    },
    {
      "cell_type": "code",
      "source": [
        "# (6) 손실함수 loss 정의하기\n",
        "# 손실함수를 MSE(Mean Squared Error)로 정의\n",
        "def compute_loss(X, y, w, b):\n",
        "    m = len(y)\n",
        "    predictions = model(X, w, b)\n",
        "    loss = (1 / m) * np.sum((predictions - y) ** 2)\n",
        "    return loss"
      ],
      "metadata": {
        "id": "qZCKRJpeMujZ"
      },
      "execution_count": 138,
      "outputs": []
    },
    {
      "cell_type": "code",
      "source": [
        "# (7) 기울기를 구하는 gradient 함수 구현하기\n",
        "def compute_gradient(X, y, w, b):\n",
        "    m = len(y)\n",
        "    predictions = model(X, w, b)\n",
        "    error = predictions - y\n",
        "\n",
        "    # 가중치에 대한 기울기\n",
        "    dj_dw = (1 / m) * np.dot(X.T, error)\n",
        "\n",
        "    # 편향에 대한 기울기\n",
        "    dj_db = (1 / m) * np.sum(error)\n",
        "\n",
        "    return dj_dw, dj_db"
      ],
      "metadata": {
        "id": "MsuCDx4MMyAF"
      },
      "execution_count": 139,
      "outputs": []
    },
    {
      "cell_type": "code",
      "source": [
        "# 하이퍼 파라미터 탐색을 위한 학습률 리스트\n",
        "learning_rates = [0.0001, 0.001, 0.01, 0.1, 1,1.3,1.5,1.7,2]\n",
        "n_iterations = 1000  # 반복 횟수\n",
        "results = {}  # 학습률별 결과 저장\n",
        "\n",
        "# 모델 학습 함수 정의\n",
        "def train_model(X_train, y_train, learning_rate, n_iterations):\n",
        "    n_features = X_train.shape[1]\n",
        "    w = np.zeros(n_features)\n",
        "    b = 0.0\n",
        "\n",
        "    for i in range(n_iterations):\n",
        "        dj_dw, dj_db = compute_gradient(X_train, y_train, w, b)\n",
        "        w -= learning_rate * dj_dw\n",
        "        b -= learning_rate * dj_db\n",
        "\n",
        "        if i % 100 == 0:\n",
        "            loss = compute_loss(X_train, y_train, w, b)\n",
        "            print(f\"Learning Rate {learning_rate} - Iteration {i}: Loss = {loss:.4f}\")\n",
        "\n",
        "    final_loss = compute_loss(X_train, y_train, w, b)\n",
        "    return final_loss, w, b"
      ],
      "metadata": {
        "id": "UZMrm5MAOyiJ"
      },
      "execution_count": 140,
      "outputs": []
    },
    {
      "cell_type": "code",
      "source": [
        "# 여러 학습률에 대해 모델 학습 수행\n",
        "for lr in learning_rates:\n",
        "    print(f\"\\nTraining model with learning rate: {lr}\")\n",
        "    final_loss, final_w, final_b = train_model(X_train, y_train, lr, n_iterations)\n",
        "    results[lr] = (final_loss, final_w, final_b)"
      ],
      "metadata": {
        "colab": {
          "base_uri": "https://localhost:8080/"
        },
        "id": "iPiMbIvoSFVI",
        "outputId": "2653f7df-1a44-448b-fb5f-831cfdd06582"
      },
      "execution_count": 141,
      "outputs": [
        {
          "output_type": "stream",
          "name": "stdout",
          "text": [
            "\n",
            "Training model with learning rate: 0.0001\n",
            "Learning Rate 0.0001 - Iteration 0: Loss = 29706.5913\n",
            "Learning Rate 0.0001 - Iteration 100: Loss = 29238.1715\n",
            "Learning Rate 0.0001 - Iteration 200: Loss = 28779.0198\n",
            "Learning Rate 0.0001 - Iteration 300: Loss = 28328.9526\n",
            "Learning Rate 0.0001 - Iteration 400: Loss = 27887.7901\n",
            "Learning Rate 0.0001 - Iteration 500: Loss = 27455.3558\n",
            "Learning Rate 0.0001 - Iteration 600: Loss = 27031.4770\n",
            "Learning Rate 0.0001 - Iteration 700: Loss = 26615.9843\n",
            "Learning Rate 0.0001 - Iteration 800: Loss = 26208.7116\n",
            "Learning Rate 0.0001 - Iteration 900: Loss = 25809.4960\n",
            "\n",
            "Training model with learning rate: 0.001\n",
            "Learning Rate 0.001 - Iteration 0: Loss = 29664.0279\n",
            "Learning Rate 0.001 - Iteration 100: Loss = 25381.5845\n",
            "Learning Rate 0.001 - Iteration 200: Loss = 21875.0588\n",
            "Learning Rate 0.001 - Iteration 300: Loss = 19003.7366\n",
            "Learning Rate 0.001 - Iteration 400: Loss = 16652.4226\n",
            "Learning Rate 0.001 - Iteration 500: Loss = 14726.8129\n",
            "Learning Rate 0.001 - Iteration 600: Loss = 13149.7055\n",
            "Learning Rate 0.001 - Iteration 700: Loss = 11857.8995\n",
            "Learning Rate 0.001 - Iteration 800: Loss = 10799.6557\n",
            "Learning Rate 0.001 - Iteration 900: Loss = 9932.6179\n",
            "\n",
            "Training model with learning rate: 0.01\n",
            "Learning Rate 0.01 - Iteration 0: Loss = 29240.5001\n",
            "Learning Rate 0.01 - Iteration 100: Loss = 9136.2736\n",
            "Learning Rate 0.01 - Iteration 200: Loss = 6409.0709\n",
            "Learning Rate 0.01 - Iteration 300: Loss = 6010.5013\n",
            "Learning Rate 0.01 - Iteration 400: Loss = 5924.4332\n",
            "Learning Rate 0.01 - Iteration 500: Loss = 5880.7445\n",
            "Learning Rate 0.01 - Iteration 600: Loss = 5843.2365\n",
            "Learning Rate 0.01 - Iteration 700: Loss = 5807.0508\n",
            "Learning Rate 0.01 - Iteration 800: Loss = 5771.5281\n",
            "Learning Rate 0.01 - Iteration 900: Loss = 5736.5718\n",
            "\n",
            "Training model with learning rate: 0.1\n",
            "Learning Rate 0.1 - Iteration 0: Loss = 25215.8529\n",
            "Learning Rate 0.1 - Iteration 100: Loss = 5698.9688\n",
            "Learning Rate 0.1 - Iteration 200: Loss = 5383.1445\n",
            "Learning Rate 0.1 - Iteration 300: Loss = 5112.3743\n",
            "Learning Rate 0.1 - Iteration 400: Loss = 4879.5818\n",
            "Learning Rate 0.1 - Iteration 500: Loss = 4678.8395\n",
            "Learning Rate 0.1 - Iteration 600: Loss = 4505.1799\n",
            "Learning Rate 0.1 - Iteration 700: Loss = 4354.4383\n",
            "Learning Rate 0.1 - Iteration 800: Loss = 4223.1211\n",
            "Learning Rate 0.1 - Iteration 900: Loss = 4108.2964\n",
            "\n",
            "Training model with learning rate: 1\n",
            "Learning Rate 1 - Iteration 0: Loss = 6032.4754\n",
            "Learning Rate 1 - Iteration 100: Loss = 3996.3660\n",
            "Learning Rate 1 - Iteration 200: Loss = 3439.0407\n",
            "Learning Rate 1 - Iteration 300: Loss = 3212.4926\n",
            "Learning Rate 1 - Iteration 400: Loss = 3092.7444\n",
            "Learning Rate 1 - Iteration 500: Loss = 3022.0368\n",
            "Learning Rate 1 - Iteration 600: Loss = 2978.4679\n",
            "Learning Rate 1 - Iteration 700: Loss = 2951.0398\n",
            "Learning Rate 1 - Iteration 800: Loss = 2933.4953\n",
            "Learning Rate 1 - Iteration 900: Loss = 2922.1031\n",
            "\n",
            "Training model with learning rate: 1.3\n",
            "Learning Rate 1.3 - Iteration 0: Loss = 8148.3574\n",
            "Learning Rate 1.3 - Iteration 100: Loss = 3759.4252\n",
            "Learning Rate 1.3 - Iteration 200: Loss = 3283.4604\n",
            "Learning Rate 1.3 - Iteration 300: Loss = 3101.5576\n",
            "Learning Rate 1.3 - Iteration 400: Loss = 3011.3593\n",
            "Learning Rate 1.3 - Iteration 500: Loss = 2963.0624\n",
            "Learning Rate 1.3 - Iteration 600: Loss = 2936.3340\n",
            "Learning Rate 1.3 - Iteration 700: Loss = 2921.1547\n",
            "Learning Rate 1.3 - Iteration 800: Loss = 2912.3075\n",
            "Learning Rate 1.3 - Iteration 900: Loss = 2907.0070\n",
            "\n",
            "Training model with learning rate: 1.5\n",
            "Learning Rate 1.5 - Iteration 0: Loss = 11922.9290\n",
            "Learning Rate 1.5 - Iteration 100: Loss = 3641.7120\n",
            "Learning Rate 1.5 - Iteration 200: Loss = 3211.3406\n",
            "Learning Rate 1.5 - Iteration 300: Loss = 3052.4690\n",
            "Learning Rate 1.5 - Iteration 400: Loss = 2978.1788\n",
            "Learning Rate 1.5 - Iteration 500: Loss = 2941.1504\n",
            "Learning Rate 1.5 - Iteration 600: Loss = 2922.0145\n",
            "Learning Rate 1.5 - Iteration 700: Loss = 2911.7787\n",
            "Learning Rate 1.5 - Iteration 800: Loss = 2906.0989\n",
            "Learning Rate 1.5 - Iteration 900: Loss = 2902.8193\n",
            "\n",
            "Training model with learning rate: 1.7\n",
            "Learning Rate 1.7 - Iteration 0: Loss = 17588.6876\n",
            "Learning Rate 1.7 - Iteration 100: Loss = 3546.5825\n",
            "Learning Rate 1.7 - Iteration 200: Loss = 3155.1237\n",
            "Learning Rate 1.7 - Iteration 300: Loss = 3016.1062\n",
            "Learning Rate 1.7 - Iteration 400: Loss = 2955.2873\n",
            "Learning Rate 1.7 - Iteration 500: Loss = 2927.0478\n",
            "Learning Rate 1.7 - Iteration 600: Loss = 2913.3415\n",
            "Learning Rate 1.7 - Iteration 700: Loss = 2906.3741\n",
            "Learning Rate 1.7 - Iteration 800: Loss = 2902.6485\n",
            "Learning Rate 1.7 - Iteration 900: Loss = 2900.5420\n",
            "\n",
            "Training model with learning rate: 2\n",
            "Learning Rate 2 - Iteration 0: Loss = 29633.3010\n",
            "Learning Rate 2 - Iteration 100: Loss = 27204.8140\n",
            "Learning Rate 2 - Iteration 200: Loss = 26992.5699\n",
            "Learning Rate 2 - Iteration 300: Loss = 27010.5913\n",
            "Learning Rate 2 - Iteration 400: Loss = 27098.1693\n",
            "Learning Rate 2 - Iteration 500: Loss = 27212.3649\n",
            "Learning Rate 2 - Iteration 600: Loss = 27337.6568\n",
            "Learning Rate 2 - Iteration 700: Loss = 27468.0518\n",
            "Learning Rate 2 - Iteration 800: Loss = 27601.1251\n",
            "Learning Rate 2 - Iteration 900: Loss = 27735.8483\n"
          ]
        }
      ]
    },
    {
      "cell_type": "code",
      "source": [
        "# 최적의 학습률 찾기\n",
        "optimal_lr = min(results, key=lambda x: results[x][0])\n",
        "optimal_loss, optimal_w, optimal_b = results[optimal_lr]\n",
        "\n",
        "print(f\"\\nOptimal Learning Rate: {optimal_lr}\")\n",
        "print(f\"Final Loss with Optimal Learning Rate: {optimal_loss:.4f}\")\n",
        "print(optimal_w)\n",
        "print(optimal_b)"
      ],
      "metadata": {
        "colab": {
          "base_uri": "https://localhost:8080/"
        },
        "id": "1Sb_QVkgSIV0",
        "outputId": "39b4e241-b0ac-4f19-f6af-ffd8b508fd13"
      },
      "execution_count": 142,
      "outputs": [
        {
          "output_type": "stream",
          "name": "stdout",
          "text": [
            "\n",
            "Optimal Learning Rate: 1.7\n",
            "Final Loss with Optimal Learning Rate: 2899.2850\n",
            "[  39.54471031 -232.98356907  545.08686511  338.65564082  -92.12649473\n",
            " -128.67513916 -217.66786727  147.09857814  404.9006651    79.6866516 ]\n",
            "151.30827869478333\n"
          ]
        }
      ]
    },
    {
      "cell_type": "code",
      "source": [
        "train_predictions = np.dot(X_train, optimal_w) + optimal_b\n",
        "train_mse = (1 / len(y_train)) * np.sum((train_predictions - y_train) ** 2)\n",
        "print(f\"Training MSE with Optimal Learning Rate: {train_mse:.4f}\")"
      ],
      "metadata": {
        "colab": {
          "base_uri": "https://localhost:8080/"
        },
        "id": "lbiMvvJ1ZzDI",
        "outputId": "2be1ec59-0e05-45a8-b4b7-da91eeea7b4c"
      },
      "execution_count": 143,
      "outputs": [
        {
          "output_type": "stream",
          "name": "stdout",
          "text": [
            "Training MSE with Optimal Learning Rate: 2899.2850\n"
          ]
        }
      ]
    },
    {
      "cell_type": "code",
      "source": [
        "# (10) Test 데이터에 대한 성능 확인하기\n",
        "# 최적의 학습률에 대한 가중치와 편향 사용\n",
        "y_test_pred = model(X_test, optimal_w, optimal_b)\n",
        "test_loss = compute_loss(X_test, y_test, optimal_w, optimal_b)\n",
        "print(f\"Test Loss with Optimal Learning Rate: {test_loss:.4f}\")"
      ],
      "metadata": {
        "colab": {
          "base_uri": "https://localhost:8080/"
        },
        "id": "dsFrTo71TtkC",
        "outputId": "4888aed3-ccd2-4dae-ab2f-707442f34568"
      },
      "execution_count": 144,
      "outputs": [
        {
          "output_type": "stream",
          "name": "stdout",
          "text": [
            "Test Loss with Optimal Learning Rate: 2877.7009\n"
          ]
        }
      ]
    },
    {
      "cell_type": "code",
      "source": [
        "# (11) 정답 데이터와 예측한 데이터 시각화하기\n",
        "import matplotlib.pyplot as plt\n",
        "plt.figure(figsize=(8, 6))\n",
        "plt.scatter(X_test[:, 0], y_test, color='blue', label='Actual')\n",
        "plt.scatter(X_test[:, 0], y_test_pred, color='red', label='Predicted')\n",
        "plt.xlabel('Feature 1')\n",
        "plt.ylabel('Target')\n",
        "plt.title('Actual vs Predicted Values (Test Set)')\n",
        "plt.legend()\n",
        "plt.show()"
      ],
      "metadata": {
        "colab": {
          "base_uri": "https://localhost:8080/",
          "height": 564
        },
        "id": "jD1lDn9pT9OC",
        "outputId": "00a2924a-71b0-473a-baf4-f7b0386922a6"
      },
      "execution_count": null,
      "outputs": [
        {
          "output_type": "display_data",
          "data": {
            "text/plain": [
              "<Figure size 800x600 with 1 Axes>"
            ],
            "image/png": "[encoded data removed]"
          },
          "metadata": {}
        }
      ]
    },
    {
      "cell_type": "code",
      "source": [],
      "metadata": {
        "id": "gbC9UGiDaHI5"
      },
      "execution_count": null,
      "outputs": []
    },
    {
      "cell_type": "code",
      "source": [],
      "metadata": {
        "id": "RFLh1RHAUGB3"
      },
      "execution_count": null,
      "outputs": []
    }
  ]
}