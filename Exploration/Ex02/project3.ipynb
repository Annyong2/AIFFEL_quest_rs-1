{
 "cells": [
  {
   "cell_type": "code",
   "execution_count": 131,
   "id": "a2d6bc6d",
   "metadata": {},
   "outputs": [
    {
     "name": "stdout",
     "output_type": "stream",
     "text": [
      "얍💢\n"
     ]
    }
   ],
   "source": [
    "import warnings\n",
    "warnings.filterwarnings(\"ignore\")\n",
    "\n",
    "import os\n",
    "from os.path import join\n",
    "\n",
    "import pandas as pd\n",
    "import numpy as np\n",
    "\n",
    "import missingno as msno\n",
    "\n",
    "from sklearn.ensemble import GradientBoostingRegressor\n",
    "from sklearn.model_selection import KFold, cross_val_score\n",
    "import xgboost as xgb\n",
    "import lightgbm as lgb\n",
    "\n",
    "import matplotlib.pyplot as plt\n",
    "import seaborn as sns\n",
    "\n",
    "print('얍💢')"
   ]
  },
  {
   "cell_type": "code",
   "execution_count": 132,
   "id": "276e342c",
   "metadata": {},
   "outputs": [],
   "source": [
    "data_dir = '~/aiffel/kaggle_kakr_housing/data'\n",
    "# hint : os.getenv를 사용하거나 직접 경로를 작성\n",
    "\n",
    "train_data_path = join(data_dir, 'train.csv')\n",
    "test_data_path = join(data_dir, 'test.csv')      # 테스트, 즉 submission 시 사용할 데이터 경로\n",
    "\n",
    "train = pd.read_csv(train_data_path)\n",
    "test = pd.read_csv(test_data_path)"
   ]
  },
  {
   "cell_type": "code",
   "execution_count": 134,
   "id": "2e22b3ec",
   "metadata": {},
   "outputs": [
    {
     "data": {
      "text/plain": [
       "0           NaN\n",
       "1           NaN\n",
       "2           NaN\n",
       "3           NaN\n",
       "4           NaN\n",
       "         ...   \n",
       "6463    21498.0\n",
       "6464    21499.0\n",
       "6465    21500.0\n",
       "6466    21501.0\n",
       "6467    21502.0\n",
       "Name: id, Length: 27971, dtype: float64"
      ]
     },
     "execution_count": 134,
     "metadata": {},
     "output_type": "execute_result"
    }
   ],
   "source": [
    "sub_id = data['id'][:]\n",
    "sub_id"
   ]
  },
  {
   "cell_type": "code",
   "execution_count": 135,
   "id": "6f44d875",
   "metadata": {},
   "outputs": [],
   "source": [
    "y = train['price']\n",
    "del train['price']\n",
    "#sub_id = data['id'][:]"
   ]
  },
  {
   "cell_type": "code",
   "execution_count": 136,
   "id": "e696a0c9",
   "metadata": {},
   "outputs": [],
   "source": [
    "del train['id']"
   ]
  },
  {
   "cell_type": "code",
   "execution_count": 137,
   "id": "20007085",
   "metadata": {},
   "outputs": [],
   "source": [
    "train['date'] = train['date'].apply(lambda i: i[:6]).astype(int)"
   ]
  },
  {
   "cell_type": "code",
   "execution_count": 138,
   "id": "b95bce49",
   "metadata": {},
   "outputs": [],
   "source": [
    "test['date'] = test['date'].apply(lambda i: i[:6]).astype(int)"
   ]
  },
  {
   "cell_type": "code",
   "execution_count": 139,
   "id": "55e74517",
   "metadata": {},
   "outputs": [],
   "source": [
    "from sklearn.model_selection import GridSearchCV"
   ]
  },
  {
   "cell_type": "code",
   "execution_count": 140,
   "id": "77e34e3e",
   "metadata": {},
   "outputs": [],
   "source": [
    "param_grid = {\n",
    "    'n_estimators': [50, 100, 150, 200,250],\n",
    "    'max_depth': [1, 5, 10, 15, 20,25],\n",
    "}\n",
    "model = LGBMRegressor(random_state=random_state)\n"
   ]
  },
  {
   "cell_type": "code",
   "execution_count": 141,
   "id": "d704f55e",
   "metadata": {},
   "outputs": [
    {
     "name": "stdout",
     "output_type": "stream",
     "text": [
      "Fitting 5 folds for each of 30 candidates, totalling 150 fits\n"
     ]
    },
    {
     "data": {
      "text/plain": [
       "GridSearchCV(cv=5, estimator=LGBMRegressor(random_state=2020), n_jobs=5,\n",
       "             param_grid={'max_depth': [1, 5, 10, 15, 20, 25],\n",
       "                         'n_estimators': [50, 100, 150, 200, 250]},\n",
       "             scoring='neg_mean_squared_error', verbose=1)"
      ]
     },
     "execution_count": 141,
     "metadata": {},
     "output_type": "execute_result"
    }
   ],
   "source": [
    "grid_model = GridSearchCV(model, param_grid=param_grid, \\\n",
    "                        scoring='neg_mean_squared_error', \\\n",
    "                        cv=5, verbose=1, n_jobs=5)\n",
    "\n",
    "\n",
    "grid_model.fit(train, y)"
   ]
  },
  {
   "cell_type": "code",
   "execution_count": 142,
   "id": "f0b627bb",
   "metadata": {},
   "outputs": [
    {
     "name": "stdout",
     "output_type": "stream",
     "text": [
      "Best Parameters: {'max_depth': 5, 'n_estimators': 250}\n"
     ]
    }
   ],
   "source": [
    "#grid_model.cv_results_\n",
    "best_params = grid_model.best_params_\n",
    "print(\"Best Parameters:\", best_params)"
   ]
  },
  {
   "cell_type": "code",
   "execution_count": 143,
   "id": "6f59e31c",
   "metadata": {},
   "outputs": [],
   "source": [
    "if 'id' in test.columns:\n",
    "    del test['id']"
   ]
  },
  {
   "cell_type": "code",
   "execution_count": 148,
   "id": "2f4c9ce0",
   "metadata": {},
   "outputs": [],
   "source": [
    "best_model = grid_model.best_estimator_\n",
    "best_model.fit(train,y)\n",
    "prediction = best_model.predict(test)"
   ]
  },
  {
   "cell_type": "code",
   "execution_count": 149,
   "id": "e82d701e",
   "metadata": {},
   "outputs": [
    {
     "data": {
      "text/plain": [
       "array([ 488374.45111929,  430318.79791164, 1283592.43673642, ...,\n",
       "        468664.78743825,  320970.66351181,  433010.25741064])"
      ]
     },
     "execution_count": 149,
     "metadata": {},
     "output_type": "execute_result"
    }
   ],
   "source": [
    "prediction"
   ]
  },
  {
   "cell_type": "code",
   "execution_count": 146,
   "id": "8511374c",
   "metadata": {},
   "outputs": [],
   "source": [
    "#prediction = np.expm1(prediction)"
   ]
  },
  {
   "cell_type": "code",
   "execution_count": 151,
   "id": "1fe8cc57",
   "metadata": {},
   "outputs": [],
   "source": [
    "result = pd.DataFrame({\n",
    "    'price' : prediction\n",
    "})\n",
    "\n",
    "result.to_csv(\"last.csv\")"
   ]
  },
  {
   "cell_type": "code",
   "execution_count": null,
   "id": "04a86005",
   "metadata": {},
   "outputs": [],
   "source": []
  }
 ],
 "metadata": {
  "kernelspec": {
   "display_name": "Python 3 (ipykernel)",
   "language": "python",
   "name": "python3"
  },
  "language_info": {
   "codemirror_mode": {
    "name": "ipython",
    "version": 3
   },
   "file_extension": ".py",
   "mimetype": "text/x-python",
   "name": "python",
   "nbconvert_exporter": "python",
   "pygments_lexer": "ipython3",
   "version": "3.9.7"
  }
 },
 "nbformat": 4,
 "nbformat_minor": 5
}
